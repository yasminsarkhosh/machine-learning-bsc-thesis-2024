{
 "cells": [
  {
   "cell_type": "markdown",
   "metadata": {},
   "source": []
  },
  {
   "cell_type": "code",
   "execution_count": 23,
   "metadata": {},
   "outputs": [],
   "source": [
    "import pandas as pd\n",
    "import numpy as np\n",
    "import matplotlib.pyplot as plt\n",
    "import seaborn as sns\n",
    "import os\n",
    "import sys\n",
    "import re"
   ]
  },
  {
   "cell_type": "markdown",
   "metadata": {},
   "source": [
    "### Dataframes\n",
    "***"
   ]
  },
  {
   "cell_type": "code",
   "execution_count": 24,
   "metadata": {},
   "outputs": [],
   "source": [
    "#df_2023 = pd.read_csv('/Users/yasminsarkhosh/Documents/GitHub/machine-learning-bsc-thesis-2024/code/database_miccai_2023.csv', index_col=0, header=0, encoding='utf-8')\n",
    "#df_2023"
   ]
  },
  {
   "cell_type": "code",
   "execution_count": 25,
   "metadata": {},
   "outputs": [],
   "source": [
    "df = pd.read_csv('/Users/yasminsarkhosh/Documents/GitHub/machine-learning-bsc-thesis-2024/code/database_miccai_2023.csv', index_col=[0], header=[0], encoding='utf-8')\n"
   ]
  },
  {
   "cell_type": "code",
   "execution_count": 26,
   "metadata": {},
   "outputs": [
    {
     "name": "stdout",
     "output_type": "stream",
     "text": [
      "<class 'pandas.core.frame.DataFrame'>\n",
      "Index: 731 entries, 0 to 730\n",
      "Data columns (total 6 columns):\n",
      " #   Column               Non-Null Count  Dtype \n",
      "---  ------               --------------  ----- \n",
      " 0   Title                731 non-null    object\n",
      " 1   Authors              731 non-null    object\n",
      " 2   Page numbers         731 non-null    object\n",
      " 3   DOI                  731 non-null    object\n",
      " 4   Year of publication  731 non-null    int64 \n",
      " 5   Part of publication  731 non-null    int64 \n",
      "dtypes: int64(2), object(4)\n",
      "memory usage: 40.0+ KB\n"
     ]
    }
   ],
   "source": [
    "df.info()\n",
    "\n",
    "#731 entries, 0 to 730 \n",
    "#6 columns in total\n",
    "#title, authors, page numbers, doi, year of publication, part of publication\n",
    "#dtype: int64(2), object(4)"
   ]
  },
  {
   "cell_type": "markdown",
   "metadata": {},
   "source": [
    "There is a total of 730 papers in MICCAI 2023. However, the dataframe contains 731. Examining the dataframe, \n",
    "I will first look into the number of papers by publication (Part of Publication)"
   ]
  },
  {
   "cell_type": "code",
   "execution_count": 27,
   "metadata": {},
   "outputs": [
    {
     "data": {
      "text/html": [
       "<div>\n",
       "<style scoped>\n",
       "    .dataframe tbody tr th:only-of-type {\n",
       "        vertical-align: middle;\n",
       "    }\n",
       "\n",
       "    .dataframe tbody tr th {\n",
       "        vertical-align: top;\n",
       "    }\n",
       "\n",
       "    .dataframe thead th {\n",
       "        text-align: right;\n",
       "    }\n",
       "</style>\n",
       "<table border=\"1\" class=\"dataframe\">\n",
       "  <thead>\n",
       "    <tr style=\"text-align: right;\">\n",
       "      <th></th>\n",
       "      <th>Title</th>\n",
       "      <th>Authors</th>\n",
       "      <th>Page numbers</th>\n",
       "      <th>DOI</th>\n",
       "      <th>Year of publication</th>\n",
       "      <th>Part of publication</th>\n",
       "    </tr>\n",
       "  </thead>\n",
       "  <tbody>\n",
       "    <tr>\n",
       "      <th>0</th>\n",
       "      <td>PET-Diffusion: Unsupervised PET Enhancement Ba...</td>\n",
       "      <td>Caiwen Jiang, Yongsheng Pan, Mianxin Liu, Lei ...</td>\n",
       "      <td>3-12</td>\n",
       "      <td>10.1007/978-3-031-43907-0_1</td>\n",
       "      <td>2023</td>\n",
       "      <td>1</td>\n",
       "    </tr>\n",
       "    <tr>\n",
       "      <th>1</th>\n",
       "      <td>MedIM: Boost Medical Image Representation via ...</td>\n",
       "      <td>Yutong Xie, Lin Gu, Tatsuya Harada, Jianpeng Z...</td>\n",
       "      <td>13-23</td>\n",
       "      <td>10.1007/978-3-031-43907-0_2</td>\n",
       "      <td>2023</td>\n",
       "      <td>1</td>\n",
       "    </tr>\n",
       "    <tr>\n",
       "      <th>2</th>\n",
       "      <td>UOD: Universal One-Shot Detection of Anatomica...</td>\n",
       "      <td>Heqin Zhu, Quan Quan, Qingsong Yao, Zaiyi Liu,...</td>\n",
       "      <td>24-34</td>\n",
       "      <td>10.1007/978-3-031-43907-0_3</td>\n",
       "      <td>2023</td>\n",
       "      <td>1</td>\n",
       "    </tr>\n",
       "    <tr>\n",
       "      <th>3</th>\n",
       "      <td>S2^2ME: Spatial-Spectral Mutual Teaching and E...</td>\n",
       "      <td>An Wang, Mengya Xu, Yang Zhang, Mobarakol Isla...</td>\n",
       "      <td>35-45</td>\n",
       "      <td>10.1007/978-3-031-43907-0_4</td>\n",
       "      <td>2023</td>\n",
       "      <td>1</td>\n",
       "    </tr>\n",
       "    <tr>\n",
       "      <th>4</th>\n",
       "      <td>Modularity-Constrained Dynamic Representation ...</td>\n",
       "      <td>Qianqian Wang, Mengqi Wu, Yuqi Fang, Wei Wang,...</td>\n",
       "      <td>46-56</td>\n",
       "      <td>10.1007/978-3-031-43907-0_5</td>\n",
       "      <td>2023</td>\n",
       "      <td>1</td>\n",
       "    </tr>\n",
       "  </tbody>\n",
       "</table>\n",
       "</div>"
      ],
      "text/plain": [
       "                                               Title  \\\n",
       "0  PET-Diffusion: Unsupervised PET Enhancement Ba...   \n",
       "1  MedIM: Boost Medical Image Representation via ...   \n",
       "2  UOD: Universal One-Shot Detection of Anatomica...   \n",
       "3  S2^2ME: Spatial-Spectral Mutual Teaching and E...   \n",
       "4  Modularity-Constrained Dynamic Representation ...   \n",
       "\n",
       "                                             Authors Page numbers  \\\n",
       "0  Caiwen Jiang, Yongsheng Pan, Mianxin Liu, Lei ...         3-12   \n",
       "1  Yutong Xie, Lin Gu, Tatsuya Harada, Jianpeng Z...        13-23   \n",
       "2  Heqin Zhu, Quan Quan, Qingsong Yao, Zaiyi Liu,...        24-34   \n",
       "3  An Wang, Mengya Xu, Yang Zhang, Mobarakol Isla...        35-45   \n",
       "4  Qianqian Wang, Mengqi Wu, Yuqi Fang, Wei Wang,...        46-56   \n",
       "\n",
       "                           DOI  Year of publication  Part of publication  \n",
       "0  10.1007/978-3-031-43907-0_1                 2023                    1  \n",
       "1  10.1007/978-3-031-43907-0_2                 2023                    1  \n",
       "2  10.1007/978-3-031-43907-0_3                 2023                    1  \n",
       "3  10.1007/978-3-031-43907-0_4                 2023                    1  \n",
       "4  10.1007/978-3-031-43907-0_5                 2023                    1  "
      ]
     },
     "execution_count": 27,
     "metadata": {},
     "output_type": "execute_result"
    }
   ],
   "source": [
    "df.head()"
   ]
  },
  {
   "cell_type": "code",
   "execution_count": 28,
   "metadata": {},
   "outputs": [
    {
     "name": "stdout",
     "output_type": "stream",
     "text": [
      "Number of papers in Publication 1: 73\n",
      "Number of papers in Publication 2: 74\n",
      "Number of papers in Publication 3: 72\n",
      "Number of papers in Publication 4: 75\n",
      "Number of papers in Publication 5: 76\n",
      "Number of papers in Publication 6: 77\n",
      "Number of papers in Publication 7: 75\n",
      "Number of papers in Publication 8: 65\n",
      "Number of papers in Publication 9: 70\n",
      "Number of papers in Publication 10: 74\n",
      "Total number of papers: 731\n"
     ]
    }
   ],
   "source": [
    "# count the number of papers for each publication. There is 10 publications in total\n",
    "\n",
    "print('Number of papers in Publication 1:', df['Part of publication'].value_counts()[1]) #73\n",
    "print('Number of papers in Publication 2:', df['Part of publication'].value_counts()[2]) #74\n",
    "print('Number of papers in Publication 3:', df['Part of publication'].value_counts()[3]) #72\n",
    "print('Number of papers in Publication 4:', df['Part of publication'].value_counts()[4]) #75\n",
    "print('Number of papers in Publication 5:', df['Part of publication'].value_counts()[5]) #76\n",
    "print('Number of papers in Publication 6:', df['Part of publication'].value_counts()[6]) #77\n",
    "print('Number of papers in Publication 7:', df['Part of publication'].value_counts()[7]) #75\n",
    "print('Number of papers in Publication 8:', df['Part of publication'].value_counts()[8]) #65\n",
    "print('Number of papers in Publication 9:', df['Part of publication'].value_counts()[9]) #70\n",
    "print('Number of papers in Publication 10:', df['Part of publication'].value_counts()[10]) #74\n",
    "\n",
    "# count the total number of papers in the dataframe\n",
    "print('Total number of papers:', df['Part of publication'].value_counts().sum()) #731"
   ]
  },
  {
   "cell_type": "code",
   "execution_count": 29,
   "metadata": {},
   "outputs": [
    {
     "name": "stdout",
     "output_type": "stream",
     "text": [
      "Title                  73\n",
      "Authors                73\n",
      "Page numbers           73\n",
      "DOI                    73\n",
      "Year of publication    73\n",
      "Part of publication    73\n",
      "dtype: int64\n",
      "Title                  74\n",
      "Authors                74\n",
      "Page numbers           74\n",
      "DOI                    74\n",
      "Year of publication    74\n",
      "Part of publication    74\n",
      "dtype: int64\n",
      "Title                  72\n",
      "Authors                72\n",
      "Page numbers           72\n",
      "DOI                    72\n",
      "Year of publication    72\n",
      "Part of publication    72\n",
      "dtype: int64\n",
      "Title                  75\n",
      "Authors                75\n",
      "Page numbers           75\n",
      "DOI                    75\n",
      "Year of publication    75\n",
      "Part of publication    75\n",
      "dtype: int64\n",
      "Title                  76\n",
      "Authors                76\n",
      "Page numbers           76\n",
      "DOI                    76\n",
      "Year of publication    76\n",
      "Part of publication    76\n",
      "dtype: int64\n",
      "Title                  77\n",
      "Authors                77\n",
      "Page numbers           77\n",
      "DOI                    77\n",
      "Year of publication    77\n",
      "Part of publication    77\n",
      "dtype: int64\n",
      "Title                  75\n",
      "Authors                75\n",
      "Page numbers           75\n",
      "DOI                    75\n",
      "Year of publication    75\n",
      "Part of publication    75\n",
      "dtype: int64\n",
      "Title                  65\n",
      "Authors                65\n",
      "Page numbers           65\n",
      "DOI                    65\n",
      "Year of publication    65\n",
      "Part of publication    65\n",
      "dtype: int64\n",
      "Title                  70\n",
      "Authors                70\n",
      "Page numbers           70\n",
      "DOI                    70\n",
      "Year of publication    70\n",
      "Part of publication    70\n",
      "dtype: int64\n",
      "Title                  74\n",
      "Authors                74\n",
      "Page numbers           74\n",
      "DOI                    74\n",
      "Year of publication    74\n",
      "Part of publication    74\n",
      "dtype: int64\n"
     ]
    }
   ],
   "source": [
    "# Checking for missing values in the dataset\n",
    "print(df.loc[df['Part of publication'] == 1].count()) #73\n",
    "print(df.loc[df['Part of publication'] == 2].count()) #74\n",
    "print(df.loc[df['Part of publication'] == 3].count()) #72\n",
    "print(df.loc[df['Part of publication'] == 4].count()) #75\n",
    "print(df.loc[df['Part of publication'] == 5].count()) #76\n",
    "print(df.loc[df['Part of publication'] == 6].count()) #77\n",
    "print(df.loc[df['Part of publication'] == 7].count()) #75\n",
    "print(df.loc[df['Part of publication'] == 8].count()) #65\n",
    "print(df.loc[df['Part of publication'] == 9].count()) #70\n",
    "print(df.loc[df['Part of publication'] == 10].count()) #74\n",
    "\n",
    "# the number of papers for each publication is equal the number of papers for each publication on the website"
   ]
  },
  {
   "cell_type": "code",
   "execution_count": 33,
   "metadata": {},
   "outputs": [
    {
     "name": "stdout",
     "output_type": "stream",
     "text": [
      "Duplicate Rows :\n"
     ]
    },
    {
     "data": {
      "text/html": [
       "<div>\n",
       "<style scoped>\n",
       "    .dataframe tbody tr th:only-of-type {\n",
       "        vertical-align: middle;\n",
       "    }\n",
       "\n",
       "    .dataframe tbody tr th {\n",
       "        vertical-align: top;\n",
       "    }\n",
       "\n",
       "    .dataframe thead th {\n",
       "        text-align: right;\n",
       "    }\n",
       "</style>\n",
       "<table border=\"1\" class=\"dataframe\">\n",
       "  <thead>\n",
       "    <tr style=\"text-align: right;\">\n",
       "      <th></th>\n",
       "      <th>Title</th>\n",
       "      <th>Authors</th>\n",
       "      <th>Page numbers</th>\n",
       "      <th>DOI</th>\n",
       "      <th>Year of publication</th>\n",
       "      <th>Part of publication</th>\n",
       "    </tr>\n",
       "  </thead>\n",
       "  <tbody>\n",
       "  </tbody>\n",
       "</table>\n",
       "</div>"
      ],
      "text/plain": [
       "Empty DataFrame\n",
       "Columns: [Title, Authors, Page numbers, DOI, Year of publication, Part of publication]\n",
       "Index: []"
      ]
     },
     "execution_count": 33,
     "metadata": {},
     "output_type": "execute_result"
    }
   ],
   "source": [
    "# Selecting duplicate rows except first\n",
    "# occurrence based on all columns\n",
    "duplicate = df[df.duplicated()]\n",
    " \n",
    "print(\"Duplicate Rows :\")\n",
    " \n",
    "# Print the resultant Dataframe\n",
    "duplicate"
   ]
  },
  {
   "cell_type": "markdown",
   "metadata": {},
   "source": [
    "#### Dataframe: papers with cancer in their title"
   ]
  },
  {
   "cell_type": "code",
   "execution_count": 32,
   "metadata": {},
   "outputs": [
    {
     "name": "stdout",
     "output_type": "stream",
     "text": [
      "23\n"
     ]
    }
   ],
   "source": [
    "# selecting papers with cancer in the title, add them into a new dataframe\n",
    "df_cancer = df.loc[df.Title.str.contains('Cancer', regex=False, na=False)]\n",
    "\n",
    "print(len(df_cancer)) # 23 papers with cancer in the title\n",
    "\n",
    "# saving dataframe for papers with cancer in the title\n",
    "df_cancer.to_csv('/Users/yasminsarkhosh/Documents/GitHub/machine-learning-bsc-thesis-2024/code/database_miccai_2023_cancer.csv', index=True, header=True, encoding='utf-8')"
   ]
  },
  {
   "cell_type": "code",
   "execution_count": 34,
   "metadata": {},
   "outputs": [],
   "source": [
    "title_list = df_cancer[\"Title\"]\n",
    "author_list = df_cancer[\"Authors\"]\n",
    "\n",
    "author_list = author_list.to_list()\n",
    "title_list = title_list.to_list()"
   ]
  },
  {
   "cell_type": "code",
   "execution_count": 35,
   "metadata": {},
   "outputs": [
    {
     "name": "stdout",
     "output_type": "stream",
     "text": [
      "23\n",
      "23\n"
     ]
    }
   ],
   "source": [
    "print(len(author_list)) #23\n",
    "print(len(title_list))  #23"
   ]
  },
  {
   "cell_type": "markdown",
   "metadata": {},
   "source": [
    "***\n",
    "### PDFs\n",
    "***"
   ]
  },
  {
   "cell_type": "markdown",
   "metadata": {},
   "source": [
    "#### Reading text files"
   ]
  },
  {
   "cell_type": "code",
   "execution_count": null,
   "metadata": {},
   "outputs": [],
   "source": [
    "# glob module to save all the txt files (10 files in total) into a single file text file\n",
    "#import glob\n",
    "#read_files = glob.glob(\"/Users/yasminsarkhosh/Documents/GitHub/machine-learning-bsc-thesis-2024/miccai_2023/*.txt\")\n",
    "\n",
    "#with open(\"miccai2023_complete_volumen.txt\", \"wb\") as outfile:\n",
    "#    for f in read_files:\n",
    "#        with open(f, \"rb\") as infile:\n",
    "#            outfile.write(infile.read())\n",
    "\n",
    "# file is saved in the same directory as the code"
   ]
  },
  {
   "cell_type": "code",
   "execution_count": null,
   "metadata": {},
   "outputs": [],
   "source": [
    "# reading in text file and splitting it into a list of strings\n",
    "path = '/Users/yasminsarkhosh/Documents/GitHub/machine-learning-bsc-thesis-2024/miccai_2023/others/all-in.txt'\n",
    "text_data = list()\n",
    "if os.path.exists(path):\n",
    "    open_file = open(path, 'r', encoding=\"utf-8\")\n",
    "    text_data = open_file.read().split('\\n')\n",
    "    text_data = list(filter(None, text_data))\n",
    "\n",
    "text_data"
   ]
  },
  {
   "cell_type": "code",
   "execution_count": null,
   "metadata": {},
   "outputs": [],
   "source": [
    "# pdfplumber to extract text from pdf\n",
    "import pdfplumber\n",
    "\n",
    "with pdfplumber.open(\"/Users/yasminsarkhosh/Downloads/978-3-031-43987-2_74.pdf\") as pdf: \n",
    "    for text in pdf.pages:\n",
    "        normal_text = text.filter(lambda obj: obj[\"object_type\"] == \"char\")\n",
    "        print(normal_text.extract_text())"
   ]
  },
  {
   "cell_type": "markdown",
   "metadata": {},
   "source": [
    "***\n",
    "### Using the miccai 2023 database (csv file) to split text file of all 730 papers into separate papers\n",
    "***"
   ]
  },
  {
   "cell_type": "code",
   "execution_count": null,
   "metadata": {},
   "outputs": [],
   "source": [
    "import os\n",
    "import csv\n",
    "import PyPDF2\n",
    "import pandas as pd"
   ]
  },
  {
   "cell_type": "code",
   "execution_count": 38,
   "metadata": {},
   "outputs": [],
   "source": [
    "csv_file_path = \"/Users/yasminsarkhosh/Documents/GitHub/machine-learning-bsc-thesis-2024/databases/database_miccai_2023.csv\"  # MICCAI 2023 CSV file\n",
    "pdf_folder = \"/Users/yasminsarkhosh/Documents/GitHub/machine-learning-bsc-thesis-2024/miccai_2023/miccai2023_complete_volumen.txt\"  # MICCAI 2023 PDF folder\n",
    "output_folder = \"./output\"  # Output folder for saving split papers\n",
    "os.makedirs(output_folder, exist_ok=True)"
   ]
  },
  {
   "cell_type": "markdown",
   "metadata": {},
   "source": [
    "#### Making a list of all titles and their page numbers"
   ]
  },
  {
   "cell_type": "code",
   "execution_count": 39,
   "metadata": {},
   "outputs": [
    {
     "name": "stdout",
     "output_type": "stream",
     "text": [
      "(PET-Diffusion: Unsupervised PET Enhancement Based on the Latent Diffusion Model,3-12),(MedIM: Boost Medical Image Representation via Radiology Report-Guided Masking,13-23),(UOD: Universal One-Shot Detection of Anatomical Landmarks,24-34),(S2^2ME: Spatial-Spectral Mutual Teaching and Ensemble Learning for Scribble-Supervised Polyp Segmentation,35-45),(Modularity-Constrained Dynamic Representation Learning for Interpretable Brain Disorder Analysis with Functional MRI,46-56),(Anatomy-Driven Pathology Detection on Chest X-rays,57-66),(VesselVAE: Recursive Variational Autoencoders for 3D Blood Vessel Synthesis,67-76),(Dense Transformer based Enhanced Coding Network for Unsupervised Metal Artifact Reduction,77-86),(Multi-scale Cross-restoration Framework for Electrocardiogram Anomaly Detection,87-97),(Correlation-Aware Mutual Learning for Semi-supervised Medical Image Segmentation,98-108),(TPRO: Text-Prompting-Based Weakly Supervised Histopathology Tissue Segmentation,109-118),(Additional Positive Enables Better Representation Learning for Medical Images,119-129),(Multi-modal Semi-supervised Evidential Recycle Framework for Alzheimers Disease Classification,130-140),(3D Arterial Segmentation via Single 2D Projections and Depth Supervision in Contrast-Enhanced CT Images,141-151),(Automatic Retrieval of Corresponding US Views in Longitudinal Examinations,152-161),(Many Tasks Make Light Work: Learning to Localise Medical Anomalies from Multiple Synthetic Tasks,162-172),(AME-CAM: Attentive Multiple-Exit CAM for Weakly Supervised Segmentation on MRI Brain Tumor,173-182),(Cross-Adversarial Local Distribution Regularization for Semi-supervised Medical Image Segmentation,183-194),(AMAE: Adaptation of Pre-trained Masked Autoencoder for Dual-Distribution Anomaly Detection in Chest X-Rays,195-205),(Gall Bladder Cancer Detection from US Images with only Image Level Labels,206-215),(Dual Conditioned Diffusion Models for Out-of-Distribution Detection: Application to Fetal Ultrasound Videos,216-226),(Weakly-Supervised Positional Contrastive Learning: Application to Cirrhosis Classification,227-237),(Inter-slice Consistency for Unpaired Low-Dose CT Denoising Using Boosted Contrastive Learning,238-247),(DAS-MIL: Distilling Across Scales for MIL Classification of Histological WSIs,248-258),(SLPD: Slide-Level Prototypical Distillation for WSIs,259-269),(PET Image Denoising with Score-Based Diffusion Probabilistic Models,270-278),(LSOR: Longitudinally-Consistent Self-Organized Representation Learning,279-289),(Self-supervised Learning for Physiologically-Based Pharmacokinetic Modeling in Dynamic PET,290-299),(Geometry-Invariant Abnormality Detection,300-309),(Modeling Alzheimers Disease Progression from Multi-task and Self-supervised Learning Perspective with Brain Networks,310-319),(Unsupervised Discovery of 3D Hierarchical Structure with Generative Diffusion Features,320-330),(Domain Adaptation for Medical Image Segmentation Using Transformation-Invariant Self-training,331-341),(Multi-IMU with Online Self-consistency for Freehand 3D Ultrasound Reconstruction,342-351),(Deblurring Masked Autoencoder Is Better Recipe for Ultrasound Image Recognition,352-362),(Youve Got Two Teachers: Co-evolutionary Image and Report Distillation for Semi-supervised Anatomical Abnormality Detection in Chest X-Ray,363-373),(Masked Vision and Language Pre-training with Unimodal and Multimodal Contrastive Losses for Medical Visual Question Answering,374-383),(CL-ADDA: Contrastive Learning with Amplitude-Driven Data Augmentation for fMRI-Based Individualized Predictions,384-393),(An Auto-Encoder to Reconstruct Structure with Cryo-EM Images via Theoretically Guaranteed Isometric Latent Space, and Its Application for Automatically Computing the Conformational Pathway,394-404),(Knowledge Boosting: Rethinking Medical Contrastive Vision-Language Pre-training,405-415),(A Small-Sample Method with EEG Signals Based on Abductive Learning for Motor Imagery Decoding,416-424),(Multi-modal Variational Autoencoders for Normative Modelling Across Multiple Imaging Modalities,425-434),(LOTUS: Learning to Optimize Task-Based US Representations,435-445),(Unsupervised 3D Out-of-Distribution Detection with Latent Diffusion Models,446-456),(Improved Multi-shot Diffusion-Weighted MRI with Zero-Shot Self-supervised Learning Reconstruction,457-466),(Infusing Physically Inspired Known Operators in Deep Models of Ultrasound Elastography,467-476),(Weakly Supervised Lesion Localization of Nascent Geographic Atrophy in Age-Related Macular Degeneration,477-485),(Can Point Cloud Networks Learn Statistical Shape Models of Anatomies?,486-496),(CT-Guided, Unsupervised Super-Resolution Reconstruction of Single 3D Magnetic Resonance Image,497-507),(Image2SSM: Reimagining Statistical Shape Models from Images with Radial Basis Functions,508-517),(MDA-SR: Multi-level Domain Adaptation Super-Resolution for Wireless Capsule Endoscopy Images,518-527),(PROnet: Point Refinement Using Shape-Guided Offset Map for Nuclei Instance Segmentation,528-538),(Self-Supervised Domain Adaptive Segmentation of Breast Cancer via Test-Time Fine-Tuning,539-550),(Decoupled Consistency for Semi-supervised Medical Image Segmentation,551-561),(Combating Medical Label Noise via Robust Semi-supervised Contrastive Learning,562-572),(Multi-scale Self-Supervised Learning for Longitudinal Lesion Tracking with Optional Supervision,573-582),(Tracking Adaptation to Improve SuperPoint for 3D Reconstruction in Endoscopy,583-593),(Structured State Space Models for Multiple Instance Learning in Digital Pathology,594-604),(vox2vec: A Framework for Self-supervised Contrastive Learning of Voxel-Level Representations in Medical Images,605-614),(Mesh2SSM: From Surface Meshes to Statistical Shape Models of Anatomy,615-625),(Graph Convolutional Network with Morphometric Similarity Networks for Schizophrenia Classification,626-636),(M-FLAG: Medical Vision-Language Pre-training with Frozen Language Models and Latent Space Geometry Optimization,637-647),(Foundation Ark: Accruing and Reusing Knowledge for Superior and Robust Performance,651-662),(Masked Frequency Consistency for Domain-Adaptive Semantic Segmentation of Laparoscopic Images,663-673),(Pick the Best Pre-trained Model: Towards Transferability Estimation for Medical Image Segmentation,674-683),(Source-Free Domain Adaptive Fundus Image Segmentation with Class-Balanced Mean Teacher,684-694),(Unsupervised Domain Adaptation for Anatomical Landmark Detection,695-705),(MetaLR: Meta-tuning of Learning Rates for Transfer Learning in Medical Imaging,706-716),(Multi-Target Domain Adaptation with Prompt Learning for Medical Image Segmentation,717-727),(Spectral Adversarial MixUp for Few-Shot Unsupervised Domain Adaptation,728-738),(Cross-Dataset Adaptation for Instrument Classification in Cataract Surgery Videos,739-748),(Black-box Domain Adaptative Cell Segmentation via Multi-source Distillation,749-758),(MedGen3D: A Deep Generative Framework for Paired 3D Image and Mask Generation,759-769),(Unsupervised Domain Transfer with Conditional Invertible Neural Networks,770-780 ),(OpenAL: An Efficient Deep Active Learning Framework for Open-Set Pathology Image Classification,3-13),(SLPT: Selective Labeling Meets Prompt Tuning on Label-Limited Lesion Segmentation,14-24),(COLosSAL: A Benchmark for Cold-Start Active Learning for 3D Medical Image Segmentation,25-34),(Continual Learning for Abdominal Multi-organ and Tumor Segmentation,35-45),(Incremental Learning for Heterogeneous Structure Segmentation in Brain Tumor MRI,46-56),(PLD-AL: Pseudo-label Divergence-Based Active Learning in Carotid Intima-Media Segmentation for Ultrasound Images,57-67),(Adapter Learning in Pretrained Feature Extractor for Continual Learning of Diseases,68-78),(EdgeAL: An Edge Estimation Based Active Learning Approach for OCT Segmentation,79-89),(Adaptive Region Selection for Active Learning in Whole Slide Image Semantic Segmentation,90-100),(CXR-CLIP: Toward Large Scale Chest X-ray Language-Image Pre-training,101-111),(VISA-FSS: A Volume-Informed Self Supervised Approach for Few-Shot 3D Segmentation,112-122),(L3DMC: Lifelong Learning Using Distillation via Mixed-Curvature Space,123-133),(Weakly Supervised Medical Image Segmentation via Superpixel-Guided Scribble Walking and Class-Wise Contrastive Regularization,137-147),(SATTA: Semantic-Aware Test-Time Adaptation for Cross-Domain Medical Image Segmentation,148-158),(SFusion: Self-attention Based N-to-One Multimodal Fusion Block,159-169),(FedGrav: An Adaptive Federated Aggregation Algorithm for Multi-institutional Medical Image Segmentation,170-180),(Category-Independent Visual Explanation for Medical Deep Network Understanding,181-191),(Self-aware and Cross-Sample Prototypical Learning for Semi-supervised Medical Image Segmentation,192-201),(NeuroExplainer: Fine-Grained Attention Decoding to Uncover Cortical Development Patterns of Preterm Infants,202-211),(Centroid-Aware Feature Recalibration for Cancer Grading in Pathology Images,212-221),(Federated Uncertainty-Aware Aggregation for Fundus Diabetic Retinopathy Staging,222-232),(Few Shot Medical Image Segmentation with Cross Attention Transformer,233-243),(ECL: Class-Enhancement Contrastive Learning for Long-Tailed Skin Lesion Classification,244-254),(Learning Transferable Object-Centric Diffeomorphic Transformations for Data Augmentation in Medical Image Segmentation,255-265),(Efficient Subclass Segmentation in Medical Images,266-275),(Class Specific Feature Disentanglement and Text Embeddings for Multi-label Generalized Zero Shot CXR Classification,276-286),(Prediction of Cognitive Scores by Joint Use of Movie-Watching fMRI Connectivity and Eye Tracking via Attention-CensNet,287-296),(Partial Vessels Annotation-Based Coronary Artery Segmentation with Self-training and Prototype Learning,297-306),(FairAdaBN: Mitigating Unfairness with Adaptive Batch Normalization and Its Application to Dermatological Disease Classification,307-317),(FedSoup: Improving Generalization and Personalization in Federated Learning via Selective Model Interpolation,318-328),(TransLiver: A Hybrid Transformer Model for Multi-phase Liver Lesion Classification,329-338),(ArSDM: Colonoscopy Images Synthesis with Adaptive Refinement Semantic Diffusion Models,339-349),(FeSViBS: Federated Split Learning of Vision Transformer with Block Sampling,350-360),(Localized Questions in Medical Visual Question Answering,361-370),(Reconstructing the Hemodynamic Response Function via a Bimodal Transformer,371-381),(Debiasing Medical Visual Question Answering via Counterfactual Training,382-393),(Spatiotemporal Hub Identification in Brain Network by Learning Dynamic Graph Embedding on Grassmannian Manifold,394-402),(Towards AI-Driven Radiology Education: A Self-supervised Segmentation-Based Framework for High-Precision Medical Image Editing,403-413),(Rethinking Semi-Supervised Federated Learning: How to Co-train Fully-Labeled and Fully-Unlabeled Client Imaging Data,414-424),(Right for the Wrong Reason: Can Interpretable ML Techniques Detect Spurious Correlations?,425-434),(Interpretable Medical Image Classification Using Prototype Learning and Privileged Information,435-445),(Physics-Based Decoding Improves Magnetic Resonance Fingerprinting,446-456),(Frequency Domain Adversarial Training for Robust Volumetric Medical Segmentation,457-467),(Localized Region Contrast for Enhancing Self-supervised Learning in Medical Image Segmentation,468-478),(A Spatial-Temporal Deformable Attention Based Framework for Breast Lesion Detection in Videos,479-488),(A Flexible Framework for Simulating and Evaluating Biases in Deep Learning-Based Medical Image Analysis,489-499),(Client-Level Differential Privacy via Adaptive Intermediary in Federated Medical Imaging,500-510),(Inflated 3D Convolution-Transformer for Weakly-Supervised Carotid Stenosis Grading with Ultrasound Videos,511-520),(One-Shot Federated Learning on Medical Data Using Knowledge Distillation with Image Synthesis and Client Model Adaptation,521-531),(Multi-objective Point Cloud Autoencoders for Explainable Myocardial Infarction Prediction,532-542),(Aneurysm Pose Estimation with Deep Learning,543-553),(Joint Optimization of a \\(\\beta \\)-VAE for ECG Task-Specific Feature Extraction,554-563),(Adaptive Multi-scale Online Likelihood Network for AI-Assisted Interactive Segmentation,564-574),(Explainable Image Classification with Improved Trustworthiness for Tissue Characterisation,575-585),(A Video-Based End-to-end Pipeline for Non-nutritive Sucking Action Recognition and Segmentation in Young Infants,586-595),(Reveal to Revise: An Explainable AI Life Cycle for Iterative Bias Correction of Deep Models,596-606),(Faithful Synthesis of Low-Dose Contrast-Enhanced Brain MRI Scans Using Noise-Preserving Conditional GANs,607-617),(Prediction of Infant Cognitive Development with Cortical Surface-Based Multimodal Learning,618-627),(Distilling BlackBox to Interpretable Models for Efficient Transfer Learning,628-638),(Gadolinium-Free Cardiac MRI Myocardial Scar Detection by 4D Convolution Factorization,639-648),(Longitudinal Multimodal Transformer Integrating Imaging and Latent Clinical Signatures from Routine EHRs for Pulmonary Nodule Classification,649-659),(FedContrast-GPA: Heterogeneous Federated Optimization via Local Contrastive Learning and Global Process-Aware Aggregation,660-670),(Partially Supervised Multi-organ Segmentation via Affinity-Aware Consistency Learning and Cross Site Feature Alignment,671-680),(Attentive Deep Canonical Correlation Analysis for Diagnosing Alzheimers Disease Using Multimodal Imaging Genetics,681-691),(FedIIC: Towards Robust Federated Learning for Class-Imbalanced Medical Image Classification,692-702),(Transferability-Guided Multi-source Model Adaptation for Medical Image Segmentation,703-712),(Explaining Massive-Training Artificial Neural Networks in Medical Image Analysis Task Through Visualizing Functions Within the Models,713-722),(An Explainable Geometric-Weighted Graph Attention Network for Identifying Functional Networks Associated with Gait Impairment,723-733),(An Interpretable and Attention-Based Method for Gaze Estimation Using Electroencephalography,734-743),(On the Relevance of Temporal Features for Medical Ultrasound Video Recognition,744-753),(Synthetic Augmentation with Large-Scale Unconditional Pre-training,754-764),(DeDA: Deep Directed Accumulator,765-775),(Mixing Temporal Graphs with MLP for Longitudinal Brain Connectome Analysis,776-786),(Correction to: COLosSAL: A Benchmark for Cold-Start Active Learning for 3D Medical Image Segmentation,C1-C1),(Pre-trained Diffusion Models for Plug-and-Play Medical Image Enhancement,3-13),(GRACE: A Generalized and Personalized Federated Learning Method for Medical Imaging,14-24),(Chest X-ray Image Classification: A Causal Perspective,25-35),(DRMC: A Generalist Model with Dynamic Routing for Multi-center PET Image Synthesis,36-46),(Federated Condition Generalization on Low-dose CT Reconstruction via Cross-domain Learning,47-56),(Enabling Geometry Aware Learning Through Differentiable Epipolar View Translation,57-65),(Enhance Early Diagnosis Accuracy of Alzheimers Disease by Elucidating Interactions Between Amyloid Cascade and Tau Propagation,66-76),(TauFlowNet: Uncovering Propagation Mechanism of Tau Aggregates by Neural Transport Equation,77-86),(Uncovering Structural-Functional Coupling Alterations for Neurodegenerative Diseases,87-96),(Toward Fairness Through Fair Multi-Exit Framework for Dermatological Disease Diagnosis,97-107),(Multi-Head Multi-Loss Model Calibration,108-117),(Scale Federated Learning for Label Set Mismatch in Medical Image Classification,118-127),(Cross-Modulated Few-Shot Image Generation for Colorectal Tissue Classification,128-137),(Bidirectional Mapping with Contrastive Learning on Multimodal Neuroimaging Data,138-148),(How Reliable are the Metrics Used for Assessing Reliability in Medical Imaging?,149-158),(Co-assistant Networks for Label Correction,159-168),(M3D-NCA: Robust 3D Segmentation with Built-In Quality Control,169-178),(The Role of Subgroup Separability in Group-Fair Medical Image Classification,179-188),(Mitigating Calibration Bias Without Fixed Attribute Grouping for Improved Fairness in Medical Imaging Analysis,189-198),(SMRD: SURE-Based Robust MRI Reconstruction with Diffusion Models,199-209),(Asymmetric Contour Uncertainty Estimation for Medical Image Segmentation,210-220),(Fourier Test-Time Adaptation with Multi-level Consistency for Robust Classification,221-231),(A Model-Agnostic Framework for Universal Anomaly Detection of Multi-organ and Multi-modal Images,232-241),(DiMix: Disentangle-and-Mix Based Domain Generalizable Medical Image Segmentation,242-251),(Regular SE(3) Group Convolutions for Volumetric Medical Image Analysis,252-261),(Deep Learning-Based Anonymization of Chest Radiographs: A Utility-Preserving Measure for Patient Privacy,262-272),(Maximum Entropy on Erroneous Predictions: Improving Model Calibration for Medical Image Segmentation,273-283),(Label-Preserving Data Augmentation in Latent Space for Diabetic Retinopathy Recognition,284-294),(Assignment Theory-Augmented Neural Network for Dental Arch Labeling,295-304),(Evidence Reconciled Neural Network for Out-of-Distribution Detection in Medical Images,305-315),(Segmentation Distortion: Quantifying Segmentation Uncertainty Under Domain Shift via the Effects of Anomalous Activations,316-325),(CheXstray: A Real-Time Multi-Modal Monitoring Workflow for Medical Imaging AI,326-336),(DiffMix: Diffusion Model-Based Data Synthesis for Nuclei Segmentation and Classification in Imbalanced Pathology Image Datasets,337-345),(Fully Bayesian VIB-DeepSSM,346-356),(Performance Metrics for Probabilistic Ordinal Classifiers,357-366),(Boundary-Weighted Logit Consistency Improves Calibration of Segmentation Networks,367-377),(Fine-Tuning Network in Federated Learning for Personalized Skin Diagnosis,378-388),(Deployment of Image Analysis Algorithms Under Prevalence Shifts,389-399),(Understanding Silent Failures in Medical Image Classification,400-410),(Towards Frugal Unsupervised Detection of Subtle Abnormalities in Medical Imaging,411-421),(A Privacy-Preserving Walk in the Latent Space of Generative Models for Medical Applications,422-431),(Deep Learning-Based Air Trapping Quantification Using Paired Inspiratory-Expiratory Ultra-low Dose CT,432-441),(Data AUDIT: Identifying Attribute Utility- and Detectability-Induced Bias in Task Models,442-452),(Temporal Uncertainty Localization to Enable Human-in-the-Loop Analysis of Dynamic Contrast-Enhanced Cardiac MRI Datasets,453-462),(Anatomical-Aware Point-Voxel Network for Couinaud Segmentation in Liver CT,465-474),(Dice Semimetric Losses: Optimizing the Dice Score with Soft Labels,475-485),(SwinMM: Masked Multi-view with Swin Transformers for 3D Medical Image Segmentation,486-496),(Shifting More Attention to Breast Lesion Segmentation in Ultrasound Videos,497-507),(UniSeg: A Prompt-Driven Universal Segmentation Model as Well as A Strong Representation Learner,508-518),(Joint Dense-Point Representation for Contour-Aware Graph Segmentation,519-528),(Structure-Preserving Instance Segmentation via Skeleton-Aware Distance Transform,529-539),(Deep Mutual Distillation for Semi-supervised Medical Image Segmentation,540-550),(HENet: Hierarchical Enhancement Network for Pulmonary Vessel Segmentation in Non-contrast CT Images,551-560),(Implicit Anatomical Rendering for Medical Image Segmentation with Stochastic Experts,561-571),(Trust Your Neighbours: Penalty-Based Constraints for Model Calibration,572-581),(DHC: Dual-Debiased Heterogeneous Co-training Framework for Class-Imbalanced Semi-supervised Medical Image Segmentation,582-591),(FocalUNETR: A Focal Transformer for Boundary-Aware Prostate Segmentation Using CT Images,592-602),(Unpaired Cross-Modal Interaction Learning for COVID-19 Segmentation on Limited CT Images,603-613),(3D Medical Image Segmentation with Sparse Annotation via Cross-Teaching Between 3D and 2D Networks,614-624),(Minimal-Supervised Medical Image Segmentation via Vector Quantization Memory,625-636),(Guiding the Guidance: A Comparative Analysis of User Guidance Signals for Interactive Segmentation of Volumetric Images,637-647),(MultiTalent: A Multi-dataset Approach to Medical Image Segmentation,648-658),(Uncertainty and Shape-Aware Continual Test-Time Adaptation for Cross-Domain Segmentation of Medical Images,659-669),(CorSegRec: A Topology-Preserving Scheme for Extracting Fully-Connected Coronary Arteries from CT Angiography,670-680),(Scale-Aware Test-Time Click Adaptation for Pulmonary Nodule and Mass Segmentation,681-691),(ACC-UNet: A Completely Convolutional UNet Model for the 2020s,692-702),(Automatic Segmentation of Internal Tooth Structure from CBCT Images Using Hierarchical Deep Learning,703-713),(Robust T-Loss for Medical Image Segmentation,714-724),(Self-adaptive Adversarial Training for Robust Medical Segmentation,725-735),(Laplacian-Former: Overcoming the Limitations of Vision Transformers in Local Texture Detection,736-746),(DAST: Differentiable Architecture Search with Transformer for 3D Medical Image Segmentation,747-756),(WeakPolyp: You only Look Bounding Box for Polyp Segmentation,757-766),(Category-Level Regularized Unlabeled-to-Labeled Learning for Semi-supervised Prostate Segmentation with Multi-site Unlabeled Data,3-13),(Devil is in Channels: Contrastive Single Domain Generalization for Medical Image Segmentation,14-23),(Transformer-Based Annotation Bias-Aware Medical Image Segmentation,24-34),(Uncertainty-Informed Mutual Learning for Joint Medical Image Classification and Segmentation,35-45),(A General Stitching Solution for Whole-Brain 3D Nuclei Instance Segmentation from Microscopy Images,46-55),(Adult-Like Phase and Multi-scale Assistance for Isointense Infant Brain Tissue Segmentation,56-66),(Robust Segmentation via Topology Violation Detection and Feature Synthesis,67-77),(GL-Fusion: Global-Local Fusion Network for Multi-view Echocardiogram Video Segmentation,78-88),(Treasure in Distribution: A Domain Randomization Based Multi-source Domain Generalization for 2D Medical Image Segmentation,89-99),(Diffusion Kinetic Model for Breast Cancer Segmentation in Incomplete DCE-MRI,100-109),(CAS-Net: Cross-View Aligned Segmentation by Graph Representation of Knees,110-119),(One-Shot Traumatic Brain Segmentation with Adversarial Training and Uncertainty Rectification,120-129),(MI-SegNet: Mutual Information-Based US Segmentation for Unseen Domain Generalization,130-140),(M-GenSeg: Domain Adaptation for Target Modality Tumor Segmentation with Annotation-Efficient Supervision,141-151),(Factor Space and Spectrum for Medical Hyperspectral Image Segmentation,152-162),(RBGNet: Reliable Boundary-Guided Segmentation of Choroidal Neovascularization,163-172),(QCResUNet: Joint Subject-Level and Voxel-Level Prediction of Segmentation Quality,173-182),(Consistency-Guided Meta-learning for Bootstrapping Semi-supervised Medical Image Segmentation,183-193),(ACTION++: Improving Semi-supervised Medical Image Segmentation with Adaptive Anatomical Contrast,194-205),(TransNuSeg: A Lightweight Multi-task Transformer for Nuclei Segmentation,206-215),(Learnable Cross-modal Knowledge Distillation for Multi-modal Learning with Missing Modality,216-226),(EchoGLAD: Hierarchical Graph Neural Networks for Left Ventricle Landmark Detection on Echocardiograms,227-237),(Class-Aware Feature Alignment for Domain Adaptative Mitochondria Segmentation,238-248),(A Sheaf Theoretic Perspective for Robust Prostate Segmentation,249-259),(Semi-supervised Domain Adaptive Medical Image Segmentation Through Consistency Regularized Disentangled Contrastive Learning,260-270),(Few-Shot Medical Image Segmentation via a Region-Enhanced Prototypical Transformer,271-280),(Morphology-Inspired Unsupervised Gland Segmentation via Selective Semantic Grouping,281-291),(Boundary Difference over Union Loss for Medical Image Segmentation,292-301),(Do We Really Need that Skip-Connection? Understanding Its Interplay with Task Complexity,302-311),(Conditional Temporal Attention Networks for Neonatal Cortical Surface Reconstruction,312-322),(Elongated Physiological Structure Segmentation via Spatial and Scale Uncertainty-Aware Network,323-332),(EoFormer: Edge-Oriented Transformer for Brain Tumor Segmentation,333-343),(Breast Ultrasound Tumor Classification Using a Hybrid Multitask CNN-Transformer Network,344-353),(Shape-Aware 3D Small Vessel Segmentation with Local Contrast Guided Attention,354-363),(HartleyMHA: Self-attention in Frequency Domain for Resolution-Robust and Parameter-Efficient 3D Image Segmentation,364-373),(EdgeMixup: Embarrassingly Simple Data Alteration to Improve Lyme Disease Lesion Segmentation and Diagnosis Fairness,374-384),(Learning Ontology-Based Hierarchical Structural Relationship for Whole Brain Segmentation,385-394),(Fine-Grained Hand Bone Segmentation via Adaptive Multi-dimensional Convolutional Network and Anatomy-Constraint Loss,395-404),(MedNeXt: Transformer-Driven Scaling of ConvNets for Medical Image Segmentation,405-415),(SwinUNETR-V2: Stronger Swin Transformers with Stagewise Convolutions for 3D Medical Image Segmentation,416-426),(Medical Boundary Diffusion Model for Skin Lesion Segmentation,427-436),(Instructive Feature Enhancement for Dichotomous Medical Image Segmentation,437-447),(MDViT: Multi-domain Vision Transformer for Small Medical Image Segmentation Datasets,448-458),(Semi-supervised Class Imbalanced Deep Learning for Cardiac MRI Segmentation,459-469),(Collaborative Modality Generation and Tissue Segmentation for Early-Developing Macaque Brain MR Images,470-480),(EGE-UNet: An Efficient Group Enhanced UNet for Skin Lesion Segmentation,481-490),(BerDiff: Conditional Bernoulli Diffusion Model for Medical Image Segmentation,491-501),(DBTrans: A Dual-Branch Vision Transformer for Multi-Modal Brain Tumor Segmentation,502-512),(Memory Replay for Continual Medical Image Segmentation Through Atypical Sample Selection,513-522),(Structure-Decoupled Adaptive Part Alignment Network for Domain Adaptive Mitochondria Segmentation,523-533),(Deep Probability Contour Framework for Tumour Segmentation and Dose Painting in PET Images,534-543),(Annotator Consensus Prediction for Medical Image Segmentation with Diffusion Models,544-554),(Anti-adversarial Consistency Regularization for Data Augmentation: Applications to Robust Medical Image Segmentation,555-566),(SimPLe: Similarity-Aware Propagation Learning for Weakly-Supervised Breast Cancer Segmentation in DCE-MRI,567-577),(Multi-shot Prototype Contrastive Learning and Semantic Reasoning for Medical Image Segmentation,578-588),(Self-supervised Learning via Inter-modal Reconstruction and Feature Projection Networks for Label-Efficient 3D-to-2D Segmentation,589-599),(RCS-YOLO: A Fast and High-Accuracy Object Detector for Brain Tumor Detection,600-610),(Certification of Deep Learning Models for Medical Image Segmentation,611-621),(Diffusion Transformer U-Net for Medical Image Segmentation,622-631),(Scaling up 3D Kernels with Bayesian Frequency Re-parameterization for Medical Image Segmentation,632-641),(ConvFormer: Plug-and-Play CNN-Style Transformers for Improving Medical Image Segmentation,642-651),(Edge-Aware Multi-task Network for Integrating Quantification Segmentation and Uncertainty Prediction of Liver Tumor on Multi-modality Non-contrast MRI,652-661),(UPCoL: Uncertainty-Informed Prototype Consistency Learning for Semi-supervised Medical Image Segmentation,662-672),(A2FSeg: Adaptive Multi-modal Fusion Network for Medical Image Segmentation,673-681),(Learning Reliability of Multi-modality Medical Images for Tumor Segmentation via Evidence-Identified Denoising Diffusion Probabilistic Models,682-691),(H-DenseFormer: An Efficient Hybrid Densely Connected Transformer for Multimodal Tumor Segmentation,692-702),(Evolutionary Normalization Optimization Boosts Semantic Segmentation Network Performance,703-712),(DOMINO++: Domain-Aware Loss Regularization for Deep Learning Generalizability,713-723),(Ariadnes Thread: Using Text Prompts to Improve Segmentation of Infected Areas from Chest X-ray Images,724-733),(NISF: Neural Implicit Segmentation Functions,734-744),(Multimodal CT and MR Segmentation of Head and Neck Organs-at-Risk,745-755),(Conditional Diffusion Models for Weakly Supervised Medical Image Segmentation,756-765),(From Sparse to Precise: A Practical Editing Approach for Intracardiac Echocardiography Segmentation,766-775),(Ischemic Stroke Segmentation from a Cross-Domain Representation in Multimodal Diffusion Studies,776-785),(Pre-operative Survival Prediction of Diffuse Glioma Patients with Joint Tumor Subtyping,786-795),(Automatic Bleeding Risk Rating System of Gastric Varices,3-12),(You Dont Have to Be Perfect to Be Amazing: Unveil the Utility of Synthetic Images,13-22),(SHISRCNet: Super-Resolution and Classification Network for Low-Resolution Breast Cancer Histopathology Image,23-32),(cOOpD: Reformulating COPD Classification on Chest CT Scans as Anomaly Detection Using Contrastive Representations,33-43),(YONA: You Only Need One Adjacent Reference-Frame for Accurate and Fast Video Polyp Detection,44-54),(Personalized Patch-Based Normality Assessment of Brain Atrophy in Alzheimers Disease,55-62),(Patients and Slides are Equal: A Multi-level Multi-instance Learning Framework for Pathological Image Analysis,63-71),(Liver Tumor Screening and Diagnosis in CT with Pixel-Lesion-Patient Network,72-82),(Self- and Semi-supervised Learning for Gastroscopic Lesion Detection,83-93),(DiffULD: Diffusive Universal Lesion Detection,94-105),(Graph-Theoretic Automatic Lesion Tracking and Detection of Patterns of Lesion Changes in Longitudinal CT Studies,106-115),(Learning with Synthesized Data for Generalizable Lesion Detection in Real PET Images,116-126),(Robust Exclusive Adaptive Sparse Feature Selection for Biomarker Discovery and Early Diagnosis of Neuropsychiatric Systemic Lupus Erythematosus,127-135),(Multi-view Vertebra Localization and Identification from CT Images,136-145),(Cluster-Induced Mask Transformers for Effective Opportunistic Gastric Cancer Screening on Non-contrast CT Scans,146-156),(Detecting Domain Shift in Multiple Instance Learning for Digital Pathology Using Fréchet Domain Distance,157-167),(Positive Definite Wasserstein Graph Kernel for Brain Disease Diagnosis,168-177),(A Reliable and Interpretable Framework of Multi-view Learning for Liver Fibrosis Staging,178-188),(Utilizing Longitudinal Chest X-Rays and Reports to Pre-fill Radiology Reports,189-198),(Parse and Recall: Towards Accurate Lung Nodule Malignancy Prediction Like Radiologists,199-209),(Privacy-Preserving Early Detection of Epileptic Seizures in Videos,210-219),(Punctate White Matter Lesion Segmentation in Preterm Infants Powered by Counterfactually Generative Learning,220-229),(Discovering Brain Network Dysfunction in Alzheimers Disease Using Brain Hypergraph Neural Network,230-240),(Improved Prognostic Prediction of Pancreatic Cancer Using Multi-phase CT by Integrating Neural Distance and Texture-Aware Transformer,241-251),(Contrastive Feature Decoupling for Weakly-Supervised Disease Detection,252-261),(Uncovering Heterogeneity in Alzheimers Disease from Graphical Modeling of the Tau Spatiotemporal Topography,262-271),(Text-Guided Foundation Model Adaptation for Pathological Image Classification,272-282),(Multiple Prompt Fusion for Zero-Shot Lesion Detection Using Vision-Language Models,283-292),(Reversing the Abnormal: Pseudo-Healthy Generative Networks for Anomaly Detection,293-303),(What Do AEs Learn? Challenging Common Assumptions in Unsupervised Anomaly Detection,304-314),(SwIPE: Efficient and Robust Medical Image Segmentation with Implicit Patch Embeddings,315-326),(Smooth Attention for Deep Multiple Instance Learning: Application to CT Intracranial Hemorrhage Detection,327-337),(DCAug: Domain-Aware and Content-Consistent Cross-Cycle Framework for Tumor Augmentation,338-347),(Beyond the Snapshot: Brain Tokenized Graph Transformer for Longitudinal Brain Functional Connectome Embedding,348-357),(CARL: Cross-Aligned Representation Learning for Multi-view Lung Cancer Histology Classification,358-367),(Style-Based Manifold for Weakly-Supervised Disease Characteristic Discovery,368-378),(COVID-19 Pneumonia Classification with Transformer from Incomplete Modalities,379-388),(Enhancing Breast Cancer Risk Prediction by Incorporating Prior Images,389-398),(Uncertainty Inspired Autism Spectrum Disorder Screening,399-408),(Rad-ReStruct: A Novel VQA Benchmark and Method for Structured Radiology Reporting,409-419),(Xplainer: From X-Ray Observations to Explainable Zero-Shot Diagnosis,420-429),(Towards Generalizable Diabetic Retinopathy Grading in Unseen Domains,430-440),(Boosting Breast Ultrasound Video Classification by the Guidance of Keyframe Feature Centers,441-451),(Learning with Domain-Knowledge for Generalizable Prediction of Alzheimers Disease from Multi-site Structural MRI,452-461),(GSDG: Exploring a Global Semantic-Guided Dual-Stream Graph Model for Automated Volume Differential Diagnosis and Prognosis,462-471),(Improving Image-Based Precision Medicine with Uncertainty-Aware Causal Models,472-481),(Diversity-Preserving Chest Radiographs Generation from Reports in One Stage,482-492),(Contrastive Masked Image-Text Modeling for Medical Visual Representation Learning,493-503),(Adjustable Robust Transformer for High Myopia Screening in Optical Coherence Tomography,504-514),(Improving Outcome Prediction of Pulmonary Embolism by De-biased Multi-modality Model,515-525),(Recruiting the Best Teacher Modality: A Customized Knowledge Distillation Method for if Based Nephropathy Diagnosis,526-536),(Text-Guided Cross-Position Attention for Segmentation: Case of Medical Image,537-546),(Visual-Attribute Prompt Learning for Progressive Mild Cognitive Impairment Prediction,547-557),(Acute Ischemic Stroke Onset Time Classification with Dynamic Convolution and Perfusion Maps Fusion,558-568),(Self-supervised Learning for Endoscopic Video Analysis,569-578),(Fast Non-Markovian Diffusion Model for Weakly Supervised Anomaly Detection in Brain MR Images,579-589),(Self-supervised Polyp Re-identification in Colonoscopy,590-600),(A Multimodal Disease Progression Model for Genetic Associations with Disease Dynamics,601-610),(Visual Grounding of Whole Radiology Reports for 3D CT Images,611-621),(Identification of Disease-Sensitive Brain Imaging Phenotypes and Genetic Factors Using GWAS Summary Statistics,622-631),(Revisiting Feature Propagation and Aggregation in Polyp Segmentation,632-641),(MUVF-YOLOX: A Multi-modal Ultrasound Video Fusion Network for Renal Tumor Diagnosis,642-651),(Unsupervised Classification of Congenital Inner Ear Malformations Using DeepDiffusion for Latent Space Representation,652-662),(How Does Pruning Impact Long-Tailed Multi-label Medical Image Classifiers?,663-673),(Multimodal Deep Fusion in Hyperbolic Space for Mild Cognitive Impairment Study,674-684),(Hierarchical Vision Transformers for Disease Progression Detection in Chest X-Ray Images,685-695),(Improved Flexibility and Interpretability of Large Vessel Stroke Prognostication Using Image Synthesis and Multi-task Learning,696-705),(Transformer-Based Tooth Segmentation, Identification and Pulp Calcification Recognition in CBCT,706-714),(Treatment Outcome Prediction for Intracerebral Hemorrhage via Generative Prognostic Model with Imaging and Tabular Data,715-725),(Open-Ended Medical Visual Question Answering Through Prefix Tuning of Language Models,726-736),(Flexible Unfolding of Circular Structures for Rendering Textbook-Style Cerebrovascular Maps,737-746),(Dynamic Curriculum Learning via In-Domain Uncertainty for Medical Image Classification,747-757),(Joint Prediction of Response to Therapy, Molecular Traits, and Spatial Organisation in Colorectal Cancer Biopsies,758-767),(Distributionally Robust Image Classifiers for Stroke Diagnosis in Accelerated MRI,768-777),(M&M: Tackling False Positives in Mammography with a Multi-view and Multi-instance Learning Sparse Detector,778-788),(Convolving Directed Graph Edges via Hodge Laplacian for Brain Network Analysis,789-799),(Mining Negative Temporal Contexts for False Positive Suppression in Real-Time Ultrasound Lesion Detection,3-13),(Combat Long-Tails in Medical Classification with Relation-Aware Consistency and Virtual Features Compensation,14-23),(Towards Novel Class Discovery: A Study in Novel Skin Lesions Clustering,24-33),(Joint Segmentation and Sub-pixel Localization in Structured Light Laryngoscopy,34-43),(A Style Transfer-Based Augmentation Framework for Improving Segmentation and Classification Performance Across Different Sources in Ultrasound Images,44-53),(HC-Net: Hybrid Classification Network for Automatic Periodontal Disease Diagnosis,54-63),(SegNetr: Rethinking the Local-Global Interactions and Skip Connections in U-Shaped Networks,64-74),(Gradient and Feature Conformity-Steered Medical Image Classification with Noisy Labels,75-84),(Multi-modality Contrastive Learning for Sarcopenia Screening from Hip X-rays and Clinical Information,85-94),(DiffMIC: Dual-Guidance Diffusion Network for Medical Image Classification,95-105),(Whole-Heart Reconstruction with Explicit Topology Integrated Learning,106-115),(Enhancing Automatic Placenta Analysis Through Distributional Feature Recomposition in Vision-Language Contrastive Learning,116-126),(Frequency-Mixed Single-Source Domain Generalization for Medical Image Segmentation,127-136),(A Semantic-Guided and Knowledge-Based Generative Framework for Orthodontic Visual Outcome Preview,137-147),(A Multi-task Method for Immunofixation Electrophoresis Image Classification,148-158),(Thinking Like Sonographers: A Deep CNN Model for Diagnosing Gout from Musculoskeletal Ultrasound,159-168),(Thyroid Nodule Diagnosis in Dynamic Contrast-Enhanced Ultrasound via Microvessel Infiltration Awareness,169-179),(Polar Eyeball Shape Net for 3D Posterior Ocular Shape Representation,180-190),(DiffDP: Radiotherapy Dose Prediction via a Diffusion Model,191-201),(A Novel Multi-task Model Imitating Dermatologists for Accurate Differential Diagnosis of Skin Diseases in Clinical Images,202-212),(Wall Thickness Estimation from Short Axis Ultrasound Images via Temporal Compatible Deformation Learning,213-222),(Mitral Regurgitation Quantification from Multi-channel Ultrasound Images via Deep Learning,223-232),(Progressive Attention Guidance for Whole Slide Vulvovaginal Candidiasis Screening,233-242),(Detection-Free Pipeline for Cervical Cancer Screening of Whole Slide Images,243-252),(Improving Pathology Localization: Multi-series Joint Attention Takes the Lead,253-262),(Detection of Basal Cell Carcinoma in Whole Slide Images,263-272),(SCOL: Supervised Contrastive Ordinal Loss for Abdominal Aortic Calcification Scoring on Vertebral Fracture Assessment Scans,273-283),(STAR-Echo: A Novel Biomarker for Prognosis of MACE in Chronic Kidney Disease Patients Using Spatiotemporal Analysis and Transformer-Based Radiomics Models,284-294),(Interpretable Deep Biomarker for Serial Monitoring of Carotid Atherosclerosis Based on Three-Dimensional Ultrasound Imaging,295-305),(Learning Robust Classifier for Imbalanced Medical Image Dataset with Noisy Labels by Minimizing Invariant Risk,306-316),(TCEIP: Text Condition Embedded Regression Network for Dental Implant Position Prediction,317-326),(Vision Transformer Based Multi-class Lesion Detection in IVOCT,327-336),(Accurate and Robust Patient Height and Weight Estimation in Clinical Imaging Using a Depth Camera,337-346),(AR2T: Advanced Realistic Rendering Technique for Biomedical Volumes,347-357),(Transformer-Based End-to-End Classification of Variable-Length Volumetric Data,358-367),(ProtoASNet: Dynamic Prototypes for Inherently Interpretable and Uncertainty-Aware Aortic Stenosis Classification in Echocardiography,368-378),(MPBD-LSTM: A Predictive Model for Colorectal Liver Metastases Using Time Series Multi-phase Contrast-Enhanced CT Scans,379-388),(Diffusion-Based Hierarchical Multi-label Object Detection to Analyze Panoramic Dental X-Rays,389-399),(Merging-Diverging Hybrid Transformer Networks for Survival Prediction in Head and Neck Cancer,400-410),(Coupling Bracket Segmentation and Tooth Surface Reconstruction on 3D Dental Models,411-420),(TSegFormer: 3D Tooth Segmentation in Intraoral Scans with Geometry Guided Transformer,421-432),(Anatomical Landmark Detection Using a Multiresolution Learning Approach with a Hybrid Transformer-CNN Model,433-443),(Cross-View Deformable Transformer for Non-displaced Hip Fracture Classification from Frontal-Lateral X-Ray Pair,444-453),(Multi-modal Pathological Pre-training via Masked Autoencoders for Breast Cancer Diagnosis,457-466),(Iteratively Coupled Multiple Instance Learning from Instance to Bag Classifier for Whole Slide Image Classification,467-476),(MixUp-MIL: Novel Data Augmentation for Multiple Instance Learning and a Study on Thyroid Cancer Diagnosis,477-486),(CellGAN: Conditional Cervical Cell Synthesis for Augmenting Cytopathological Image Classification,487-496),(Democratizing Pathological Image Segmentation with Lay Annotators via Molecular-Empowered Learning,497-507),(Gene-Induced Multimodal Pre-training for Image-Omic Classification,508-517),(Artifact Restoration in Histology Images with Diffusion Probabilistic Models,518-527),(Forensic Histopathological Recognition via a Context-Aware MIL Network Powered by Self-supervised Contrastive Learning,528-538),(Segment Membranes and Nuclei from Histopathological Images via Nuclei Point-Level Supervision,539-548),(StainDiff: Transfer Stain Styles of Histology Images with Denoising Diffusion Probabilistic Models and Self-ensemble,549-559),(IIB-MIL: Integrated Instance-Level and Bag-Level Multiple Instances Learning with Label Disambiguation for Pathological Image Analysis,560-569),(Semi-supervised Pathological Image Segmentation via Cross Distillation of Multiple Attentions,570-579),(An Anti-biased TBSRTC-Category Aware Nuclei Segmentation Framework with a Multi-label Thyroid Cytology Benchmark,580-590),(DARC: Distribution-Aware Re-Coloring Model for Generalizable Nucleus Segmentation,591-601),(Multi-scale Prototypical Transformer for Whole Slide Image Classification,602-611),(Transfer Learning-Assisted Survival Analysis of Breast Cancer Relying on the Spatial Interaction Between Tumor-Infiltrating Lymphocytes and Tumors,612-621),(Pathology-and-Genomics Multimodal Transformer for Survival Outcome Prediction,622-631),(Adaptive Supervised PatchNCE Loss for Learning H&E-to-IHC Stain Translation with Inconsistent Groundtruth Image Pairs,632-641),(Deep Learning for Tumor-Associated Stroma Identification in Prostate Histopathology Slides,642-651),(Robust Cervical Abnormal Cell Detection via Distillation from Local-Scale Consistency Refinement,652-661),(Instance-Aware Diffusion Model for Gland Segmentation in Colon Histology Images,662-672),(Label-Free Nuclei Segmentation Using Intra-Image Self Similarity,673-682),(Histopathology Image Classification Using Deep Manifold Contrastive Learning,683-692),(Zero-Shot Nuclei Detection via Visual-Language Pre-trained Models,693-703),(An AI-Ready Multiplex Staining Dataset for Reproducible and Accurate Characterization of Tumor Immune Microenvironment,704-713),(Position-Aware Masked Autoencoder for Histopathology WSI Representation Learning,714-724),(A One-Class Variational Autoencoder (OCVAE) Cascade for Classifying Atypical Bone Marrow Cell Sub-types,725-734),(MulHiST: Multiple Histological Staining for Thick Biological Samples via Unsupervised Image-to-Image Translation,735-744),(Multi-scope Analysis Driven Hierarchical Graph Transformer for Whole Slide Image Based Cancer Survival Prediction,745-754),(HIGT: Hierarchical Interaction Graph-Transformer for Whole Slide Image Analysis,755-764),(ALL-IN: A Local GLobal Graph-Based DIstillatioN Model for Representation Learning of Gigapixel Histopathology Images With Application In Cancer Risk Assessment,765-775),(Deep Cellular Embeddings: An Explainable Plug and Play Improvement for Feature Representation in Histopathology,776-785),(NASDM: Nuclei-Aware Semantic Histopathology Image Generation Using Diffusion Models,786-796),(Triangular Analysis of Geographical Interplay of Lymphocytes (TriAnGIL): Predicting Immunotherapy Response in Lung Cancer,797-807),(Source-Free Domain Adaptation for Medical Image Segmentation via Prototype-Anchored Feature Alignment and Contrastive Learning,3-12),(Segmentation of Kidney Tumors on Non-Contrast CT Images Using Protuberance Detection Network,13-22),(Eye-Guided Dual-Path Network for Multi-organ Segmentation of Abdomen,23-32),(Scribble-Based 3D Multiple Abdominal Organ Segmentation via Triple-Branch Multi-Dilated Network with Pixel- and Class-Wise Consistency,33-42),(Geometry-Adaptive Network for Robust Detection of Placenta Accreta Spectrum Disorders,43-53),(DisAsymNet: Disentanglement of Asymmetrical Abnormality on Bilateral Mammograms Using Self-adversarial Learning,57-67),(Mammo-Net: Integrating Gaze Supervision and Interactive Information in Multi-view Mammogram Classification,68-78),(Synthesis of Contrast-Enhanced Breast MRI Using T1- and Multi-b-Value DWI-Based Hierarchical Fusion Network with Attention Mechanism,79-88),(Developing Large Pre-trained Model for Breast Tumor Segmentation from Ultrasound Images,89-96),(Towards Expert-Amateur Collaboration: Prototypical Label Isolation Learning for Left Atrium Segmentation with Mixed-Quality Labels,99-109),(Conditional Physics-Informed Graph Neural Network for Fractional Flow Reserve Assessment,110-120),(Semantic Difference Guidance for the Uncertain Boundary Segmentation of CT Left Atrial Appendage,121-131),(DMCVR: Morphology-Guided Diffusion Model for 3D Cardiac Volume Reconstruction,132-142),(A Conditional Flow Variational Autoencoder for Controllable Synthesis of Virtual Populations of Anatomy,143-152),(Radiomics-Informed Deep Learning for Classification of Atrial Fibrillation Sub-Types from Left-Atrium CT Volumes,153-162),(A Spatial-Temporally Adaptive PINN Framework for 3D Bi-Ventricular Electrophysiological Simulations and Parameter Inference,163-172),(ModusGraph: Automated 3D and 4D Mesh Model Reconstruction from Cine CMR with Improved Accuracy and Efficiency,173-183),(Twelve-Lead ECG Reconstruction from Single-Lead Signals Using Generative Adversarial Networks,184-194),(Forward-Solution Aided Deep-Learning Framework for Patient-Specific Noninvasive Cardiac Ectopic Pacing Localization,195-205),(Tensor-Based Multimodal Learning for Prediction of Pulmonary Arterial Wedge Pressure from Cardiac MRI,206-215),(Virtual Heart Models Help Elucidate the Role of Border Zone in Sustained Monomorphic Ventricular Tachycardia,216-225),(PCMC-T1: Free-Breathing Myocardial T1 Mapping with Physically-Constrained Motion Correction,226-235),(Machine Learning for Automated Mitral Regurgitation Detection from Cardiac Imaging,236-246),(EPVT: Environment-Aware Prompt Vision Transformer for Domain Generalization in Skin Lesion Recognition,249-259),(Skin Lesion Correspondence Localization in Total Body Photography,260-269),(FEDD - Fair, Efficient, and Diverse Diffusion-Based Lesion Segmentation and Malignancy Classification,270-279),(Improving Automatic Fetal Biometry Measurement with Swoosh Activation Function,283-292),(Robust Estimation of the Microstructure of the Early Developing Brain Using Deep Learning,293-303),(HACL-Net: Hierarchical Attention and Contrastive Learning Network for MRI-Based Placenta Accreta Spectrum Diagnosis,304-314),(UM-CAM: Uncertainty-weighted Multi-resolution Class Activation Maps for Weakly-supervised Fetal Brain Segmentation,315-324),(ASC: Appearance and Structure Consistency for Unsupervised Domain Adaptation in Fetal Brain MRI Segmentation,325-335),(Simulation-Based Parameter Optimization for Fetal Brain MRI Super-Resolution Reconstruction,336-346),(TabAttention: Learning Attention Conditionally on Tabular Data,347-357),(An Automated Pipeline for Quantitative T2* Fetal Body MRI and Segmentation at Low Field,358-367),(Medical Phrase Grounding with Region-Phrase Context Contrastive Alignment,371-381),(Topology Repairing of Disconnected Pulmonary Airways and Vessels: Baselines and a Dataset,382-392),(AirwayFormer: Structure-Aware Boundary-Adaptive Transformers for Airway Anatomical Labeling,393-402),(CLIP-Lung: Textual Knowledge-Guided Lung Nodule Malignancy Prediction,403-412),(CTFlow: Mitigating Effects of Computed Tomography Acquisition and Reconstruction with Normalizing Flows,413-422),(Automated CT Lung Cancer Screening Workflow Using 3D Camera,423-431),(Speech Audio Synthesis from Tagged MRI and Non-negative Matrix Factorization via Plastic Transformer,435-445),(Robust Hough and Spatial-To-Angular Transform Based Rotation Estimation for Orthopedic X-Ray Images,446-455),(3D Dental Mesh Segmentation Using Semantics-Based Feature Learning with Graph-Transformer,456-465),(Full Image-Index Remainder Based Single Low-Dose DR/CT Self-supervised Denoising,466-475),(Shape-Based Pose Estimation for Automatic Standard Views of the Knee,476-486),(Optimizing the 3D Plate Shape for Proximal Humerus Fractures,487-496),(MSKdeX: Musculoskeletal (MSK) Decomposition from an X-Ray Image for Fine-Grained Estimation of Lean Muscle Mass and Muscle Volume,497-507),(Second-Course Esophageal Gross Tumor Volume Segmentation in CT with Prior Anatomical and Radiotherapy Information,511-520),(Self-feedback Transformer: A Multi-label Diagnostic Model for Real-World Pancreatic Neuroendocrine Neoplasms Data,521-530),(Anatomy-Informed Data Augmentation for Enhanced Prostate Cancer Detection,531-540),(Clinical Evaluation of AI-Assisted Virtual Contrast Enhanced MRI in Primary Gross Tumor Volume Delineation for Radiotherapy of Nasopharyngeal Carcinoma,541-550),(Multi-task Learning of Histology and Molecular Markers for Classifying Diffuse Glioma,551-561),(Bridging Ex-Vivo Training and Intra-operative Deployment for Surgical Margin Assessment with Evidential Graph Transformer,562-571),(Probabilistic Modeling Ensemble Vision Transformer Improves Complex Polyp Segmentation,572-581),(Retinal Thickness Prediction from Multi-modal Fundus Photography,585-595),(Reliable Multimodality Eye Disease Screening via Mixture of Students t Distributions,596-606),(Polar-Net: A Clinical-Friendly Model for Alzheimers Disease Detection in OCTA Images,607-617),(Context-Aware Pseudo-label Refinement for Source-Free Domain Adaptive Fundus Image Segmentation,618-628),(Retinal Age Estimation with Temporal Fundus Images Enhanced Progressive Label Distribution Learning,629-638),(Fundus-Enhanced Disease-Aware Distillation Model for Retinal Disease Classification from OCT Images,639-648),(VF-HM: Vision Loss Estimation Using Fundus Photograph for High Myopia,649-659),(Content-Preserving Diffusion Model for Unsupervised AS-OCT Image Despeckling,660-670),(Lesion-Aware Contrastive Learning for Diabetic Retinopathy Diagnosis,671-681),(Efficient Spatiotemporal Learning of Microscopic Video for Augmented Reality-Guided Phacoemulsification Cataract Surgery,682-692),(Revolutionizing Space Health (Swin-FSR): Advancing Super-Resolution of Fundus Images for SANS Visual Assessment Technology,693-703),(Representation, Alignment, Fusion: A Generic Transformer-Based Framework for Multi-modal Glaucoma Recognition,704-713),(A Modulatory Elongated Model for Delineating Retinal Microvasculature in OCTA Images,714-723),(Clustering Disease Trajectories in Contrastive Feature Space for Biomarker Proposal in Age-Related Macular Degeneration,724-734),(Incomplete Multimodal Learning for Visual Acuity Prediction After Cataract Surgery Using Masked Self-Attention,735-744),(UWAT-GAN: Fundus Fluorescein Angiography Synthesis via Ultra-Wide-Angle Transformation Multi-scale GAN,745-755),(Topology-Preserving Automatic Labeling of Coronary Arteries via Anatomy-Aware Connection Classifier,759-769),(AngioMoCo: Learning-Based Motion Correction in Cerebral Digital Subtraction Angiography,770-780),(CenterlinePointNet++: A New Point Cloud Based Architecture for Coronary Artery Pressure Drop and vFFR Estimation,781-790),(SPR-Net: Structural Points Based Registration for Coronary Arteries Across Systolic and Diastolic Phases,791-801),(WarpEM: Dynamic Time Warping for Accurate Catheter Registration in EM-Guided Procedures,802-811),(CoactSeg: Learning from Heterogeneous Data for New Multiple Sclerosis Lesion Segmentation,3-13),(Generating Realistic Brain MRIs via a Conditional Diffusion Probabilistic Model,14-24),(Towards Accurate Microstructure Estimation via 3D Hybrid Graph Transformer,25-34),(Cortical Analysis of Heterogeneous Clinical Brain MRI Scans for Large-Scale Neuroimaging Studies,35-45),(Flow-Based Geometric Interpolation of Fiber Orientation Distribution Functions,46-55),(Learnable Subdivision Graph Neural Network for Functional Brain Network Analysis and Interpretable Cognitive Disorder Diagnosis,56-66),(FE-STGNN: Spatio-Temporal Graph Neural Network with Functional and Effective Connectivity Fusion for MCI Diagnosis,67-76),(Learning Normal Asymmetry Representations for Homologous Brain Structures,77-87),(Simulation of Arbitrary Level Contrast Dose in MRI Using an Iterative Global Transformer Model,88-98),(Development and Fast Transferring of General Connectivity-Based Diagnosis Model to New Brain Disorders with Adaptive Graph Meta-Learner,99-108),(Brain Anatomy-Guided MRI Analysis for Assessing Clinical Progression of Cognitive Impairment with Structural MRI,109-119),(Dynamic Structural Brain Network Construction by Hierarchical Prototype Embedding GCN Using T1-MRI,120-130),(Microstructure Fingerprinting for Heterogeneously Oriented Tissue Microenvironments,131-141),(AUA-dE: An Adaptive Uncertainty Guided Attention for Diffusion MRI Models Estimation,142-151),(Relaxation-Diffusion Spectrum Imaging for Probing Tissue Microarchitecture,152-162),(Joint Representation of Functional and Structural Profiles for Identifying Common and Consistent 3-Hinge Gyral Folding Landmark,163-172),(Single-subject Multi-contrast MRI Super-resolution via Implicit Neural Representations,173-183),(DeepSOZ: A Robust Deep Model for Joint Temporal and Spatial Seizure Onset Localization from Multichannel EEG Data,184-194),(Multimodal Brain Age Estimation Using Interpretable Adaptive Population-Graph Learning,195-204),(BrainUSL: Unsupervised Graph Structure Learning for Functional Brain Network Analysis,205-214),(Learning Asynchronous Common and Individual Functional Brain Network for AD Diagnosis,215-225),(Self-pruning Graph Neural Network for Predicting Inflammatory Disease Activity in Multiple Sclerosis from Brain MR Images,226-236),(atTRACTive: Semi-automatic White Matter Tract Segmentation Using Active Learning,237-246),(Domain-Agnostic Segmentation of Thalamic Nuclei from Joint Structural and Diffusion MRI,247-257),(Neural Pre-processing: A Learning Framework for End-to-End Brain MRI Pre-processing,258-267),(Dynamic Functional Connectome Harmonics,268-276),(Wasserstein Distance-Preserving Vector Space of Persistent Homology,277-286),(Community-Aware Transformer for Autism Prediction in fMRI Connectome,287-297),(Overall Survival Time Prediction of Glioblastoma on Preoperative MRI Using Lesion Network Mapping,298-307),(Exploring Brain Function-Structure Connectome Skeleton via Self-supervised Graph-Transformer Approach,308-317),(Vertex Correspondence in Cortical Surface Reconstruction,318-327),(Path-Based Heterogeneous Brain Transformer Network for Resting-State Functional Connectivity Analysis,328-337),(Dynamic Graph Neural Representation Based Multi-modal Fusion Model for Cognitive Outcome Prediction in Stroke Cases,338-347),(Predicting Diverse Functional Connectivity from Structural Connectivity Based on Multi-contexts Discriminator GAN,348-357),(DeepGraphDMD: Interpretable Spatio-Temporal Decomposition of Non-linear Functional Brain Network Dynamics,358-368),(Disentangling Site Effects with Cycle-Consistent Adversarial Autoencoder for Multi-site Cortical Data Harmonization,369-379),(SurfFlow: A Flow-Based Approach for Rapid and Accurate Cortical Surface Reconstruction from Infant Brain MRI,380-388),(Prior-Driven Dynamic Brain Networks for Multi-modal Emotion Recognition,389-398),(Unified Surface and Volumetric Inference on Functional Imaging Data,399-408),(TractCloud: Registration-Free Tractography Parcellation with a Novel Local-Global Streamline Point Cloud Representation,409-419),(Robust and Generalisable Segmentation of Subtle Epilepsy-Causing Lesions: A Graph Convolutional Approach,420-428),(Weakly Supervised Cerebellar Cortical Surface Parcellation with Self-Visual Representation Learning,429-438),(Maximum-Entropy Estimation of Joint Relaxation-Diffusion Distribution Using Multi-TE Diffusion MRI,439-448),(Physics-Informed Conditional Autoencoder Approach for Robust Metabolic CEST MRI at 7T,449-458),(A Coupled-Mechanisms Modelling Framework for Neurodegeneration,459-469),(A Texture Neural Network to Predict the Abnormal Brachial Plexus from Routine Magnetic Resonance Imaging,470-480),(Mitosis Detection from Partial Annotation by Dataset Generation via Frame-Order Flipping,483-492),(CircleFormer: Circular Nuclei Detection in Whole Slide Images with Circle Queries and Attention,493-502),(A Motion Transformer for Single Particle Tracking in Fluorescence Microscopy Images,503-513),(B-Cos Aligned Transformers Learn Human-Interpretable Features,514-524),(PMC-CLIP: Contrastive Language-Image Pre-training Using Biomedical Documents,525-536),(Self-supervised Dense Representation Learning for Live-Cell Microscopy with Time Arrow Prediction,537-547),(Learning Large Margin Sparse Embeddings for Open Set Medical Diagnosis,548-558),(Exploring Unsupervised Cell Recognition with Prior Self-activation Maps,559-568),(Prompt-Based Grouping Transformer for Nucleus Detection and Classification,569-579),(PAS-Net: Rapid Prediction of Antibiotic Susceptibility from Fluorescence Images of Bacterial Cells Using Parallel Dual-Branch Network,580-591),(Diffusion-Based Data Augmentation for Nuclei Image Segmentation,592-602),(Unsupervised Learning for Feature Extraction and Temporal Alignment of 3D+t Point Clouds of Zebrafish Embryos,603-612),(3D Mitochondria Instance Segmentation with Spatio-Temporal Transformers,613-623),(Prompt-MIL: Boosting Multi-instance Learning Schemes via Task-Specific Prompt Tuning,624-634),(Pick and Trace: Instance Segmentation for Filamentous Objects with a Recurrent Neural Network,635-645),(BigFUSE: Global Context-Aware Image Fusion in Dual-View Light-Sheet Fluorescence Microscopy with Image Formation Prior,646-655),(LUCYD: A Feature-Driven Richardson-Lucy Deconvolution Network,656-665),(Deep Unsupervised Clustering for Conditional Identification of Subgroups Within a Digital Pathology Image Set,666-675),(Weakly-Supervised Drug Efficiency Estimation with Confidence Score: Application to COVID-19 Drug Discovery,676-685),(UXDiff: Synthesis of X-Ray Image from Ultrasound Coronal Image of Spine with Diffusion Probabilistic Network,3-12),(EndoSurf: Neural Surface Reconstruction of Deformable Tissues with Stereo Endoscope Videos,13-23),(Surgical Video Captioning with Mutual-Modal Concept Alignment,24-34),(SEDSkill: Surgical Events Driven Method for Skill Assessment from Thoracoscopic Surgical Videos,35-45),(Neural LerPlane Representations for Fast 4D Reconstruction of Deformable Tissues,46-56),(SegmentOR: Obtaining Efficient Operating Room Semantics Through Temporal Propagation,57-67),(Revisiting Distillation for Continual Learning on Visual Question Localized-Answering in Robotic Surgery,68-78),(Intra-operative Forecasting of Standing Spine Shape with Articulated Neural Kernel Fields,79-89),(Rectifying Noisy Labels with Sequential Prior: Multi-scale Temporal Feature Affinity Learning for Robust Video Segmentation,90-100),(Foundation Model for Endoscopy Video Analysis via Large-Scale Self-supervised Pre-train,101-111),(Point Cloud Diffusion Models for Automatic Implant Generation,112-122),(A Novel Video-CTU Registration Method with Structural Point Similarity for FURS Navigation,123-132),(Pelphix: Surgical Phase Recognition from X-Ray Images in Percutaneous Pelvic Fixation,133-143),(TCL: Triplet Consistent Learning for Odometry Estimation of Monocular Endoscope,144-153),(Regressing Simulation to Real: Unsupervised Domain Adaptation for Automated Quality Assessment in Transoesophageal Echocardiography,154-164),(Estimated Time to Surgical Procedure Completion: An Exploration of Video Analysis Methods,165-175),(A Transfer Learning Approach to Localising a Deep Brain Stimulation Target,176-185),(Soft-Tissue Driven Craniomaxillofacial Surgical Planning,186-195),(ACT-Net: Anchor-Context Action Detection in Surgery Videos,196-206),(From Tissue to Sound: Model-Based Sonification of Medical Imaging,207-216),(Deep Homography Prediction for Endoscopic Camera Motion Imitation Learning,217-226),(Learning Expected Appearances for Intraoperative Registration During Neurosurgery,227-237),(SENDD: Sparse Efficient Neural Depth and Deformation for Tissue Tracking,238-248),(Cochlear Implant Fold Detection in Intra-operative CT Using Weakly Supervised Multi-task Deep Learning,249-259),(Detecting the Sensing Area of a Laparoscopic Probe in Minimally Invasive Cancer Surgery,260-270),(High-Quality Virtual Single-Viewpoint Surgical Video: Geometric Autocalibration of Multiple Cameras in Surgical Lights,271-280),(SurgicalGPT: End-to-End Language-Vision GPT for Visual Question Answering in Surgery,281-290),(Intraoperative CT Augmentation for Needle-Based Liver Interventions,291-301),(LABRAD-OR: Lightweight Memory Scene Graphs for Accurate Bimodal Reasoning in Dynamic Operating Rooms,302-311),(Pelvic Fracture Segmentation Using a Multi-scale Distance-Weighted Neural Network,312-321),(Pelvic Fracture Reduction Planning Based on Morphable Models and Structural Constraints,322-332),(High-Resolution Cranial Defect Reconstruction by Iterative, Low-Resolution, Point Cloud Completion Transformers,333-343),(Regularized Kelvinlet Functions to Model Linear Elasticity for Image-to-Physical Registration of the Breast,344-353),(Synthesising Rare Cataract Surgery Samples with Guided Diffusion Models,354-364),(A Closed-Form Solution to Electromagnetic Sensor Based Intraoperative Limb Length Measurement in Total Hip Arthroplasty,365-375),(A Unified Deep-Learning-Based Framework for Cochlear Implant Electrode Array Localization,376-385),(\\(\\textsf{GLSFormer}\\): Gated - Long, Short Sequence Transformer for Step Recognition in Surgical Videos,386-396),(CAT-ViL: Co-attention Gated Vision-Language Embedding for Visual Question Localized-Answering in Robotic Surgery,397-407),(Semantic Virtual Shadows (SVS) for Improved Perception in 4D OCT Guided Surgery,408-417),(Intelligent Virtual B-Scan Mirror (IVBM),418-428),(Multi-view Guidance for Self-supervised Monocular Depth Estimation on Laparoscopic Images via Spatio-Temporal Correspondence,429-439),(POV-Surgery: A Dataset for Egocentric Hand and Tool Pose Estimation During Surgical Activities,440-450),(Surgical Activity Triplet Recognition via Triplet Disentanglement,451-461),(Automatic Surgical Reconstruction for Orbital Blow-Out Fracture via Symmetric Prior Anatomical Knowledge-Guided Adversarial Generative Network,462-471),(A Multi-task Network for Anatomy Identification in Endoscopic Pituitary Surgery,472-482),(Robust Vertebra Identification Using Simultaneous Node and Edge Predicting Graph Neural Networks,483-493),(Imitation Learning from Expert Video Data for Dissection Trajectory Prediction in Endoscopic Surgical Procedure,494-504),(Surgical Action Triplet Detection by Mixed Supervised Learning of Instrument-Tissue Interactions,505-514),(A Patient-Specific Self-supervised Model for Automatic X-Ray/CT Registration,515-524),(Dose Guidance for Radiotherapy-Oriented Deep Learning Segmentation,525-534),(Realistic Endoscopic Illumination Modeling for NeRF-Based Data Generation,535-544),(Multi-task Joint Prediction of Infant Cortical Morphological and Cognitive Development,545-554),(From Mesh Completion to AI Designed Crown,555-565),(Spatiotemporal Incremental Mechanics Modeling of Facial Tissue Change,566-575),(Analysis of Suture Force Simulations for Optimal Orientation of Rhomboid Skin Flaps,576-586),(FLIm-Based in Vivo Classification of Residual Cancer in the Surgical Cavity During Transoral Robotic Surgery,587-596),(Spinal Nerve Segmentation Method and Dataset Construction in Endoscopic Surgical Scenarios,597-606),(Optical Coherence Elastography Needle for Biomechanical Characterization of Deep Tissue,607-617),(Semantic Segmentation of Surgical Hyperspectral Images Under Geometric Domain Shifts,618-627),(Ultrasonic Tracking of a Rapid-Exchange Microcatheter with Simultaneous Pressure Sensing for Cardiovascular Interventions,628-636),(Self-distillation for Surgical Action Recognition,637-646),(Encoding Surgical Videos as Latent Spatiotemporal Graphs for Object and Anatomy-Driven Reasoning,647-657),(Deep Reinforcement Learning Based System for Intraoperative Hyperspectral Video Autofocusing,658-667),(Towards Multi-modal Anatomical Landmark Detection for Ultrasound-Guided Brain Tumor Resection with Contrastive Learning,668-678),(ConTrack: Contextual Transformer for Device Tracking in X-Ray,679-688),(FocalErrorNet: Uncertainty-Aware Focal Modulation Network for Inter-modal Registration Error Estimation in Ultrasound-Guided Neurosurgery,689-698),(Optical Ultrasound Imaging for Endovascular Repair of Abdominal Aortic Aneurysms: A Pilot Study,699-707),(Self-supervised Sim-to-Real Kinematics Reconstruction for Video-Based Assessment of Intraoperative Suturing Skills,708-717),(Cascade Transformer Encoded Boundary-Aware Multibranch Fusion Networks for Real-Time and Accurate Colonoscopic Lesion Segmentation,718-727),(Learnable Query Initialization for Surgical Instrument Instance Segmentation,728-738),(CDiffMR: Can We Replace the Gaussian Noise with K-Space Undersampling for Fast MRI?,3-12),(Learning Deep Intensity Field for Extremely Sparse-View CBCT Reconstruction,13-23),(Revealing Anatomical Structures in PET to Generate CT for Attenuation Correction,24-33),(LLCaps: Learning to Illuminate Low-Light Capsule Endoscopy with Curved Wavelet Attention and Reverse Diffusion,34-44),(An Explainable Deep Framework: Towards Task-Specific Fusion for Multi-to-One MRI Synthesis,45-55),(Structure-Preserving Synthesis: MaskGAN for Unpaired MR-CT Translation,56-65),(Alias-Free Co-modulated Network for Cross-Modality Synthesis and Super-Resolution of MR Images,66-76),(Multi-perspective Adaptive Iteration Network for Metal Artifact Reduction,77-87),(Noise Conditioned Weight Modulation for Robust and Generalizable Low Dose CT Denoising,88-97),(Low-Dose CT Image Super-Resolution Network with Dual-Guidance Feature Distillation and Dual-Path Content Communication,98-108),(MEPNet: A Model-Driven Equivariant Proximal Network for Joint Sparse-View Reconstruction and Metal Artifact Reduction in CT Images,109-120),(MoCoSR: Respiratory Motion Correction and Super-Resolution for 3D Abdominal MRI,121-131),(Estimation of 3T MR Images from 1.5T Images Regularized with Physics Based Constraint,132-141),(Feature-Conditioned Cascaded Video Diffusion Models for Precise Echocardiogram Synthesis,142-152),(DULDA: Dual-Domain Unsupervised Learned Descent Algorithm for PET Image Reconstruction,153-162),(Transformer-Based Dual-Domain Network for Few-View Dedicated Cardiac SPECT Image Reconstructions,163-172),(Learned Alternating Minimization Algorithm for Dual-Domain Sparse-View CT Reconstruction,173-183),(TriDo-Former: A Triple-Domain Transformer for Direct PET Reconstruction from Low-Dose Sinograms,184-194),(Computationally Efficient 3D MRI Reconstruction with Adaptive MLP,195-205),(Building a Bridge: Close the Domain Gap in CT Metal Artifact Reduction,206-216),(Geometric Ultrasound Localization Microscopy,217-227),(Global k-Space Interpolation for Dynamic MRI Reconstruction Using Masked Image Modeling,228-238),(Contrastive Diffusion Model with Auxiliary Guidance for Coarse-to-Fine PET Reconstruction,239-249),(FreeSeed: Frequency-Band-Aware and Self-guided Network for Sparse-View CT Reconstruction,250-259),(Topology-Preserving Computed Tomography Super-Resolution Based on Dual-Stream Diffusion Model,260-270),(MRIS: A Multi-modal Retrieval Approach for Image Synthesis on Diverse Modalities,271-281),(Dual Arbitrary Scale Super-Resolution for Multi-contrast MRI,282-292),(Dual Domain Motion Artifacts Correction for MR Imaging Under Guidance of K-space Uncertainty,293-302),(Trackerless Volume Reconstruction from Intraoperative Ultrasound Images,303-312),(Accurate Multi-contrast MRI Super-Resolution via a Dual Cross-Attention Transformer Network,313-322),(DiffuseIR: Diffusion Models for Isotropic Reconstruction of 3D Microscopic Images,323-332),(Physics-Informed Neural Networks for Tissue Elasticity Reconstruction in Magnetic Resonance Elastography,333-343),(CT Kernel Conversion Using Multi-domain Image-to-Image Translation with Generator-Guided Contrastive Learning,344-354),(ASCON: Anatomy-Aware Supervised Contrastive Learning Framework for Low-Dose CT Denoising,355-365),(Generating High-Resolution 3D CT with 12-Bit Depth Using a Diffusion Model with Adjacent Slice and Intensity Calibration Network,366-375),(3D Teeth Reconstruction from Panoramic Radiographs Using Neural Implicit Functions,376-386),(DisC-Diff: Disentangled Conditional Diffusion Model for Multi-contrast MRI Super-Resolution,387-397),(CoLa-Diff: Conditional Latent Diffusion Model for Multi-modal MRI Synthesis,398-408),(JCCS-PFGM: A Novel Circle-Supervision Based Poisson Flow Generative Model for Multiphase CECT Progressive Low-Dose Reconstruction with Joint Condition,409-418),(Motion Compensated Unsupervised Deep Learning for 5D MRI,419-427),(Differentiable Beamforming for Ultrasound Autofocusing,428-437),(InverseSR: 3D Brain MRI Super-Resolution Using a Latent Diffusion Model,438-447),(Unified Brain MR-Ultrasound Synthesis Using Multi-modal Hierarchical Representations,448-458),(S3M: Scalable Statistical Shape Modeling Through Unsupervised Correspondences,459-469),(RESToring Clarity: Unpaired Retina Image Enhancement Using Scattering Transform,470-480),(Noise2Aliasing: Unsupervised Deep Learning for View Aliasing and Noise Reduction in 4DCBCT,481-490),(Self-supervised MRI Reconstruction with Unrolled Diffusion Models,491-501),(LightNeuS: Neural Surface Reconstruction in Endoscopy Using Illumination Decline,502-512),(Reflectance Mode Fluorescence Optical Tomography with Consumer-Grade Cameras,513-523),(Solving Low-Dose CT Reconstruction via GAN with Local Coherence,524-534),(Co-learning Semantic-Aware Unsupervised Segmentation for Pathological Image Registration,537-547),(\\(\\mathrm {H^{2}}\\)GM: A Hierarchical Hypergraph Matching Framework for Brain Landmark Alignment,548-558),(SAMConvex: Fast Discrete Optimization for CT Registration Using Self-supervised Anatomical Embedding and Correlation Pyramid,559-569),(CycleSTTN: A Learning-Based Temporal Model for Specular Augmentation in Endoscopy,570-580),(Importance Weighted Variational Cardiac MRI Registration Using Transformer and Implicit Prior,581-591),(Make-A-Volume: Leveraging Latent Diffusion Models for Cross-Modality 3D Brain MRI Synthesis,592-601),(PIViT: Large Deformation Image Registration with Pyramid-Iterative Vision Transformer,602-612),(GSMorph: Gradient Surgery for Cine-MRI Cardiac Deformable Registration,613-622),(Progressively Coupling Network for Brain MRI Registration in Few-Shot Situation,623-633),(Nonuniformly Spaced Control Points Based on Variational Cardiac Image Registration,634-644),(Implicit Neural Representations for Joint Decomposition and Registration of Gene Expression Images in the Marmoset Brain,645-654),(FSDiffReg: Feature-Wise and Score-Wise Diffusion-Guided Unsupervised Deformable Image Registration for Cardiac Images,655-665),(A Denoised Mean Teacher for Domain Adaptive Point Cloud Registration,666-676),(Unsupervised 3D Registration Through Optimization-Guided Cyclical Self-training,677-687),(Inverse Consistency by Construction for Multistep Deep Registration,688-698),(X2Vision: 3D CT Reconstruction from Biplanar X-Rays with Deep Structure Prior,699-709),(Fast Reconstruction for Deep Learning PET Head Motion Correction,710-719),(An Unsupervised Multispectral Image Registration Network for Skin Diseases,720-729),(CortexMorph: Fast Cortical Thickness Estimation via Diffeomorphic Registration Using VoxelMorph,730-739),(ModeT: Learning Deformable Image Registration via Motion Decomposition Transformer,740-749),(Non-iterative Coarse-to-Fine Transformer Networks for Joint Affine and Deformable Image Registration,750-760),(DISA: DIfferentiable Similarity Approximation for Universal Multimodal Registration,761-770),(StructuRegNet: Structure-Guided Multimodal 2D-3D Registration,771-780),(X-Ray to CT Rigid Registration Using Scene Coordinate Regression,781-790)\n",
      "731\n"
     ]
    }
   ],
   "source": [
    "with open(csv_file_path, 'r') as csv_file: # open the csv file\n",
    "    df_csv = pd.read_csv(csv_file, index_col=0) # read the csv file into a dataframe\n",
    "\n",
    "    title_pages = [] # list of strings in the format \"(title, page numbers)\"\n",
    "\n",
    "    for pair in zip(df_csv[\"Title\"], df_csv[\"Page numbers\"]): # zip the two lists together\n",
    "        pair_str = \"({})\".format(\",\".join(pair)) # join the pair of strings with a comma\n",
    "        title_pages.append(pair_str) # append the string to the list\n",
    "\n",
    "    final_str = \",\".join(title_pages)  # join the list of strings with a comma and add a semicolon at the end\n",
    "\n",
    "\n",
    "print(final_str) # prints (title1,page1),(title2,page2),(title3,page3), (title4,page4),(title5,page5),(title6,page6)...\n",
    "print(len(title_pages)) # prints 731\n"
   ]
  },
  {
   "cell_type": "code",
   "execution_count": 47,
   "metadata": {},
   "outputs": [
    {
     "ename": "error",
     "evalue": "multiple repeat at position 23114",
     "output_type": "error",
     "traceback": [
      "\u001b[0;31m---------------------------------------------------------------------------\u001b[0m",
      "\u001b[0;31merror\u001b[0m                                     Traceback (most recent call last)",
      "Cell \u001b[0;32mIn[47], line 4\u001b[0m\n\u001b[1;32m      2\u001b[0m \u001b[38;5;66;03m# make a pattern, that matches the title and the page numbers\u001b[39;00m\n\u001b[1;32m      3\u001b[0m pattern \u001b[38;5;241m=\u001b[39m \u001b[38;5;124m'\u001b[39m\u001b[38;5;124m\\\u001b[39m\u001b[38;5;124m(([^:]+):\u001b[39m\u001b[38;5;124m\\\u001b[39m\u001b[38;5;124ms*([^,]+),(\u001b[39m\u001b[38;5;124m\\\u001b[39m\u001b[38;5;124md+)-(\u001b[39m\u001b[38;5;124m\\\u001b[39m\u001b[38;5;124md+)\u001b[39m\u001b[38;5;124m\\\u001b[39m\u001b[38;5;124m)\u001b[39m\u001b[38;5;124m'\u001b[39m\n\u001b[0;32m----> 4\u001b[0m pattern \u001b[38;5;241m=\u001b[39m \u001b[43mre\u001b[49m\u001b[38;5;241;43m.\u001b[39;49m\u001b[43mcompile\u001b[49m\u001b[43m(\u001b[49m\u001b[43mfinal_str\u001b[49m\u001b[43m)\u001b[49m \u001b[38;5;66;03m# for speeding up \u001b[39;00m\n\u001b[1;32m      5\u001b[0m re\u001b[38;5;241m.\u001b[39mfindall(pattern, pdf_folder) \u001b[38;5;66;03m# find all matches in the final_str\u001b[39;00m\n",
      "File \u001b[0;32m/Library/Developer/CommandLineTools/Library/Frameworks/Python3.framework/Versions/3.9/lib/python3.9/re.py:252\u001b[0m, in \u001b[0;36mcompile\u001b[0;34m(pattern, flags)\u001b[0m\n\u001b[1;32m    250\u001b[0m \u001b[38;5;28;01mdef\u001b[39;00m \u001b[38;5;21mcompile\u001b[39m(pattern, flags\u001b[38;5;241m=\u001b[39m\u001b[38;5;241m0\u001b[39m):\n\u001b[1;32m    251\u001b[0m     \u001b[38;5;124m\"\u001b[39m\u001b[38;5;124mCompile a regular expression pattern, returning a Pattern object.\u001b[39m\u001b[38;5;124m\"\u001b[39m\n\u001b[0;32m--> 252\u001b[0m     \u001b[38;5;28;01mreturn\u001b[39;00m \u001b[43m_compile\u001b[49m\u001b[43m(\u001b[49m\u001b[43mpattern\u001b[49m\u001b[43m,\u001b[49m\u001b[43m \u001b[49m\u001b[43mflags\u001b[49m\u001b[43m)\u001b[49m\n",
      "File \u001b[0;32m/Library/Developer/CommandLineTools/Library/Frameworks/Python3.framework/Versions/3.9/lib/python3.9/re.py:304\u001b[0m, in \u001b[0;36m_compile\u001b[0;34m(pattern, flags)\u001b[0m\n\u001b[1;32m    302\u001b[0m \u001b[38;5;28;01mif\u001b[39;00m \u001b[38;5;129;01mnot\u001b[39;00m sre_compile\u001b[38;5;241m.\u001b[39misstring(pattern):\n\u001b[1;32m    303\u001b[0m     \u001b[38;5;28;01mraise\u001b[39;00m \u001b[38;5;167;01mTypeError\u001b[39;00m(\u001b[38;5;124m\"\u001b[39m\u001b[38;5;124mfirst argument must be string or compiled pattern\u001b[39m\u001b[38;5;124m\"\u001b[39m)\n\u001b[0;32m--> 304\u001b[0m p \u001b[38;5;241m=\u001b[39m \u001b[43msre_compile\u001b[49m\u001b[38;5;241;43m.\u001b[39;49m\u001b[43mcompile\u001b[49m\u001b[43m(\u001b[49m\u001b[43mpattern\u001b[49m\u001b[43m,\u001b[49m\u001b[43m \u001b[49m\u001b[43mflags\u001b[49m\u001b[43m)\u001b[49m\n\u001b[1;32m    305\u001b[0m \u001b[38;5;28;01mif\u001b[39;00m \u001b[38;5;129;01mnot\u001b[39;00m (flags \u001b[38;5;241m&\u001b[39m DEBUG):\n\u001b[1;32m    306\u001b[0m     \u001b[38;5;28;01mif\u001b[39;00m \u001b[38;5;28mlen\u001b[39m(_cache) \u001b[38;5;241m>\u001b[39m\u001b[38;5;241m=\u001b[39m _MAXCACHE:\n\u001b[1;32m    307\u001b[0m         \u001b[38;5;66;03m# Drop the oldest item\u001b[39;00m\n",
      "File \u001b[0;32m/Library/Developer/CommandLineTools/Library/Frameworks/Python3.framework/Versions/3.9/lib/python3.9/sre_compile.py:764\u001b[0m, in \u001b[0;36mcompile\u001b[0;34m(p, flags)\u001b[0m\n\u001b[1;32m    762\u001b[0m \u001b[38;5;28;01mif\u001b[39;00m isstring(p):\n\u001b[1;32m    763\u001b[0m     pattern \u001b[38;5;241m=\u001b[39m p\n\u001b[0;32m--> 764\u001b[0m     p \u001b[38;5;241m=\u001b[39m \u001b[43msre_parse\u001b[49m\u001b[38;5;241;43m.\u001b[39;49m\u001b[43mparse\u001b[49m\u001b[43m(\u001b[49m\u001b[43mp\u001b[49m\u001b[43m,\u001b[49m\u001b[43m \u001b[49m\u001b[43mflags\u001b[49m\u001b[43m)\u001b[49m\n\u001b[1;32m    765\u001b[0m \u001b[38;5;28;01melse\u001b[39;00m:\n\u001b[1;32m    766\u001b[0m     pattern \u001b[38;5;241m=\u001b[39m \u001b[38;5;28;01mNone\u001b[39;00m\n",
      "File \u001b[0;32m/Library/Developer/CommandLineTools/Library/Frameworks/Python3.framework/Versions/3.9/lib/python3.9/sre_parse.py:948\u001b[0m, in \u001b[0;36mparse\u001b[0;34m(str, flags, state)\u001b[0m\n\u001b[1;32m    945\u001b[0m state\u001b[38;5;241m.\u001b[39mstr \u001b[38;5;241m=\u001b[39m \u001b[38;5;28mstr\u001b[39m\n\u001b[1;32m    947\u001b[0m \u001b[38;5;28;01mtry\u001b[39;00m:\n\u001b[0;32m--> 948\u001b[0m     p \u001b[38;5;241m=\u001b[39m \u001b[43m_parse_sub\u001b[49m\u001b[43m(\u001b[49m\u001b[43msource\u001b[49m\u001b[43m,\u001b[49m\u001b[43m \u001b[49m\u001b[43mstate\u001b[49m\u001b[43m,\u001b[49m\u001b[43m \u001b[49m\u001b[43mflags\u001b[49m\u001b[43m \u001b[49m\u001b[38;5;241;43m&\u001b[39;49m\u001b[43m \u001b[49m\u001b[43mSRE_FLAG_VERBOSE\u001b[49m\u001b[43m,\u001b[49m\u001b[43m \u001b[49m\u001b[38;5;241;43m0\u001b[39;49m\u001b[43m)\u001b[49m\n\u001b[1;32m    949\u001b[0m \u001b[38;5;28;01mexcept\u001b[39;00m Verbose:\n\u001b[1;32m    950\u001b[0m     \u001b[38;5;66;03m# the VERBOSE flag was switched on inside the pattern.  to be\u001b[39;00m\n\u001b[1;32m    951\u001b[0m     \u001b[38;5;66;03m# on the safe side, we'll parse the whole thing again...\u001b[39;00m\n\u001b[1;32m    952\u001b[0m     state \u001b[38;5;241m=\u001b[39m State()\n",
      "File \u001b[0;32m/Library/Developer/CommandLineTools/Library/Frameworks/Python3.framework/Versions/3.9/lib/python3.9/sre_parse.py:443\u001b[0m, in \u001b[0;36m_parse_sub\u001b[0;34m(source, state, verbose, nested)\u001b[0m\n\u001b[1;32m    441\u001b[0m start \u001b[38;5;241m=\u001b[39m source\u001b[38;5;241m.\u001b[39mtell()\n\u001b[1;32m    442\u001b[0m \u001b[38;5;28;01mwhile\u001b[39;00m \u001b[38;5;28;01mTrue\u001b[39;00m:\n\u001b[0;32m--> 443\u001b[0m     itemsappend(\u001b[43m_parse\u001b[49m\u001b[43m(\u001b[49m\u001b[43msource\u001b[49m\u001b[43m,\u001b[49m\u001b[43m \u001b[49m\u001b[43mstate\u001b[49m\u001b[43m,\u001b[49m\u001b[43m \u001b[49m\u001b[43mverbose\u001b[49m\u001b[43m,\u001b[49m\u001b[43m \u001b[49m\u001b[43mnested\u001b[49m\u001b[43m \u001b[49m\u001b[38;5;241;43m+\u001b[39;49m\u001b[43m \u001b[49m\u001b[38;5;241;43m1\u001b[39;49m\u001b[43m,\u001b[49m\n\u001b[1;32m    444\u001b[0m \u001b[43m                       \u001b[49m\u001b[38;5;129;43;01mnot\u001b[39;49;00m\u001b[43m \u001b[49m\u001b[43mnested\u001b[49m\u001b[43m \u001b[49m\u001b[38;5;129;43;01mand\u001b[39;49;00m\u001b[43m \u001b[49m\u001b[38;5;129;43;01mnot\u001b[39;49;00m\u001b[43m \u001b[49m\u001b[43mitems\u001b[49m\u001b[43m)\u001b[49m)\n\u001b[1;32m    445\u001b[0m     \u001b[38;5;28;01mif\u001b[39;00m \u001b[38;5;129;01mnot\u001b[39;00m sourcematch(\u001b[38;5;124m\"\u001b[39m\u001b[38;5;124m|\u001b[39m\u001b[38;5;124m\"\u001b[39m):\n\u001b[1;32m    446\u001b[0m         \u001b[38;5;28;01mbreak\u001b[39;00m\n",
      "File \u001b[0;32m/Library/Developer/CommandLineTools/Library/Frameworks/Python3.framework/Versions/3.9/lib/python3.9/sre_parse.py:834\u001b[0m, in \u001b[0;36m_parse\u001b[0;34m(source, state, verbose, nested, first)\u001b[0m\n\u001b[1;32m    831\u001b[0m         \u001b[38;5;28;01mraise\u001b[39;00m source\u001b[38;5;241m.\u001b[39merror(err\u001b[38;5;241m.\u001b[39mmsg, \u001b[38;5;28mlen\u001b[39m(name) \u001b[38;5;241m+\u001b[39m \u001b[38;5;241m1\u001b[39m) \u001b[38;5;28;01mfrom\u001b[39;00m \u001b[38;5;28;01mNone\u001b[39;00m\n\u001b[1;32m    832\u001b[0m sub_verbose \u001b[38;5;241m=\u001b[39m ((verbose \u001b[38;5;129;01mor\u001b[39;00m (add_flags \u001b[38;5;241m&\u001b[39m SRE_FLAG_VERBOSE)) \u001b[38;5;129;01mand\u001b[39;00m\n\u001b[1;32m    833\u001b[0m                \u001b[38;5;129;01mnot\u001b[39;00m (del_flags \u001b[38;5;241m&\u001b[39m SRE_FLAG_VERBOSE))\n\u001b[0;32m--> 834\u001b[0m p \u001b[38;5;241m=\u001b[39m \u001b[43m_parse_sub\u001b[49m\u001b[43m(\u001b[49m\u001b[43msource\u001b[49m\u001b[43m,\u001b[49m\u001b[43m \u001b[49m\u001b[43mstate\u001b[49m\u001b[43m,\u001b[49m\u001b[43m \u001b[49m\u001b[43msub_verbose\u001b[49m\u001b[43m,\u001b[49m\u001b[43m \u001b[49m\u001b[43mnested\u001b[49m\u001b[43m \u001b[49m\u001b[38;5;241;43m+\u001b[39;49m\u001b[43m \u001b[49m\u001b[38;5;241;43m1\u001b[39;49m\u001b[43m)\u001b[49m\n\u001b[1;32m    835\u001b[0m \u001b[38;5;28;01mif\u001b[39;00m \u001b[38;5;129;01mnot\u001b[39;00m source\u001b[38;5;241m.\u001b[39mmatch(\u001b[38;5;124m\"\u001b[39m\u001b[38;5;124m)\u001b[39m\u001b[38;5;124m\"\u001b[39m):\n\u001b[1;32m    836\u001b[0m     \u001b[38;5;28;01mraise\u001b[39;00m source\u001b[38;5;241m.\u001b[39merror(\u001b[38;5;124m\"\u001b[39m\u001b[38;5;124mmissing ), unterminated subpattern\u001b[39m\u001b[38;5;124m\"\u001b[39m,\n\u001b[1;32m    837\u001b[0m                        source\u001b[38;5;241m.\u001b[39mtell() \u001b[38;5;241m-\u001b[39m start)\n",
      "File \u001b[0;32m/Library/Developer/CommandLineTools/Library/Frameworks/Python3.framework/Versions/3.9/lib/python3.9/sre_parse.py:443\u001b[0m, in \u001b[0;36m_parse_sub\u001b[0;34m(source, state, verbose, nested)\u001b[0m\n\u001b[1;32m    441\u001b[0m start \u001b[38;5;241m=\u001b[39m source\u001b[38;5;241m.\u001b[39mtell()\n\u001b[1;32m    442\u001b[0m \u001b[38;5;28;01mwhile\u001b[39;00m \u001b[38;5;28;01mTrue\u001b[39;00m:\n\u001b[0;32m--> 443\u001b[0m     itemsappend(\u001b[43m_parse\u001b[49m\u001b[43m(\u001b[49m\u001b[43msource\u001b[49m\u001b[43m,\u001b[49m\u001b[43m \u001b[49m\u001b[43mstate\u001b[49m\u001b[43m,\u001b[49m\u001b[43m \u001b[49m\u001b[43mverbose\u001b[49m\u001b[43m,\u001b[49m\u001b[43m \u001b[49m\u001b[43mnested\u001b[49m\u001b[43m \u001b[49m\u001b[38;5;241;43m+\u001b[39;49m\u001b[43m \u001b[49m\u001b[38;5;241;43m1\u001b[39;49m\u001b[43m,\u001b[49m\n\u001b[1;32m    444\u001b[0m \u001b[43m                       \u001b[49m\u001b[38;5;129;43;01mnot\u001b[39;49;00m\u001b[43m \u001b[49m\u001b[43mnested\u001b[49m\u001b[43m \u001b[49m\u001b[38;5;129;43;01mand\u001b[39;49;00m\u001b[43m \u001b[49m\u001b[38;5;129;43;01mnot\u001b[39;49;00m\u001b[43m \u001b[49m\u001b[43mitems\u001b[49m\u001b[43m)\u001b[49m)\n\u001b[1;32m    445\u001b[0m     \u001b[38;5;28;01mif\u001b[39;00m \u001b[38;5;129;01mnot\u001b[39;00m sourcematch(\u001b[38;5;124m\"\u001b[39m\u001b[38;5;124m|\u001b[39m\u001b[38;5;124m\"\u001b[39m):\n\u001b[1;32m    446\u001b[0m         \u001b[38;5;28;01mbreak\u001b[39;00m\n",
      "File \u001b[0;32m/Library/Developer/CommandLineTools/Library/Frameworks/Python3.framework/Versions/3.9/lib/python3.9/sre_parse.py:671\u001b[0m, in \u001b[0;36m_parse\u001b[0;34m(source, state, verbose, nested, first)\u001b[0m\n\u001b[1;32m    668\u001b[0m     \u001b[38;5;28;01mraise\u001b[39;00m source\u001b[38;5;241m.\u001b[39merror(\u001b[38;5;124m\"\u001b[39m\u001b[38;5;124mnothing to repeat\u001b[39m\u001b[38;5;124m\"\u001b[39m,\n\u001b[1;32m    669\u001b[0m                        source\u001b[38;5;241m.\u001b[39mtell() \u001b[38;5;241m-\u001b[39m here \u001b[38;5;241m+\u001b[39m \u001b[38;5;28mlen\u001b[39m(this))\n\u001b[1;32m    670\u001b[0m \u001b[38;5;28;01mif\u001b[39;00m item[\u001b[38;5;241m0\u001b[39m][\u001b[38;5;241m0\u001b[39m] \u001b[38;5;129;01min\u001b[39;00m _REPEATCODES:\n\u001b[0;32m--> 671\u001b[0m     \u001b[38;5;28;01mraise\u001b[39;00m source\u001b[38;5;241m.\u001b[39merror(\u001b[38;5;124m\"\u001b[39m\u001b[38;5;124mmultiple repeat\u001b[39m\u001b[38;5;124m\"\u001b[39m,\n\u001b[1;32m    672\u001b[0m                        source\u001b[38;5;241m.\u001b[39mtell() \u001b[38;5;241m-\u001b[39m here \u001b[38;5;241m+\u001b[39m \u001b[38;5;28mlen\u001b[39m(this))\n\u001b[1;32m    673\u001b[0m \u001b[38;5;28;01mif\u001b[39;00m item[\u001b[38;5;241m0\u001b[39m][\u001b[38;5;241m0\u001b[39m] \u001b[38;5;129;01mis\u001b[39;00m SUBPATTERN:\n\u001b[1;32m    674\u001b[0m     group, add_flags, del_flags, p \u001b[38;5;241m=\u001b[39m item[\u001b[38;5;241m0\u001b[39m][\u001b[38;5;241m1\u001b[39m]\n",
      "\u001b[0;31merror\u001b[0m: multiple repeat at position 23114"
     ]
    }
   ],
   "source": []
  },
  {
   "cell_type": "code",
   "execution_count": 50,
   "metadata": {},
   "outputs": [
    {
     "name": "stdout",
     "output_type": "stream",
     "text": [
      "Total 0/1 files were found with matching results. \n",
      "Total matched cases: 0\n"
     ]
    }
   ],
   "source": [
    "from glob import glob\n",
    "import re\n",
    "# make a pattern, that matches the title and the page numbers\n",
    "pattern = '\\(([^:]+):\\s*([^,]+),(\\d+)-(\\d+)\\)'\n",
    "pattern = re.compile(pattern) # for speeding up \n",
    "\n",
    "# get a list of target files\n",
    "files = glob('/Users/yasminsarkhosh/Documents/GitHub/machine-learning-bsc-thesis-2024/miccai_2023/miccai2023_complete_volumen.txt')\n",
    "results = list()\n",
    "# keep track of files without matches\n",
    "nonmatched = list()\n",
    "\n",
    "for file in files: \n",
    "    # open and access file-content\n",
    "    with open(file, 'r') as f:\n",
    "        text_from_file = f.read()\n",
    "    # search for patterns\n",
    "    result = re.findall(pattern, text_from_file)\n",
    "    # append to results only if non-empty \n",
    "    # search-result found\n",
    "    if result:\n",
    "        results.append(result)\n",
    "    else:\n",
    "        nonmatched.append(file)\n",
    "\n",
    "print(f'Total {len(results)}/{len(files)} files were found with matching results. \\nTotal matched cases: { sum([ len(result) for result in results ]) }')"
   ]
  },
  {
   "cell_type": "code",
   "execution_count": null,
   "metadata": {},
   "outputs": [],
   "source": []
  }
 ],
 "metadata": {
  "kernelspec": {
   "display_name": "Python 3",
   "language": "python",
   "name": "python3"
  },
  "language_info": {
   "codemirror_mode": {
    "name": "ipython",
    "version": 3
   },
   "file_extension": ".py",
   "mimetype": "text/x-python",
   "name": "python",
   "nbconvert_exporter": "python",
   "pygments_lexer": "ipython3",
   "version": "3.9.6"
  }
 },
 "nbformat": 4,
 "nbformat_minor": 2
}
