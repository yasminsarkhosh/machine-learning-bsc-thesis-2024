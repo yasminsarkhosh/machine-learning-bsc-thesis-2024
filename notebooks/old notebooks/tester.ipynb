{
 "cells": [
  {
   "cell_type": "code",
   "execution_count": 1,
   "metadata": {},
   "outputs": [],
   "source": [
    "import os\n",
    "import pandas as pd\n",
    "import matplotlib.pyplot as plt\n",
    "import seaborn as sns\n",
    "from collections import Counter"
   ]
  },
  {
   "cell_type": "code",
   "execution_count": 8,
   "metadata": {},
   "outputs": [],
   "source": [
    "# List of keywords used for sentence extractions and annotations\n",
    "keywords_age        = ['age']\n",
    "\n",
    "keywords_gender     = ['gender', 'sex', 'women', 'woman', 'female', 'male']\n",
    "\n",
    "keywords_etnicity   = ['etnicity', 'etnicities', 'race', 'white patients', 'black patients']\n",
    "\n",
    "keywords_geoloc     = ['geolocation', 'geographical', 'geographic', 'country', 'countries', 'city', 'cities', \n",
    "                        'hospital', 'hospitals', 'clinic', 'clinics', 'society', 'societies',]\n",
    "\n",
    "keywords_bias       = ['bias', 'biases','fairness']\n",
    "\n",
    "# Unified keyword to category mapping including all themes\n",
    "keywords_by_category = {\n",
    "    'demographics_': [\n",
    "        'age', 'gender', 'sex', 'women', 'woman', 'female', 'male',\n",
    "        'etnicity', 'etnicities', 'race', 'white patients', 'black patients'],\n",
    "    'geolocation_': [\n",
    "        'geolocation', 'geographical', 'geographic', 'country', 'countries', \n",
    "        'city', 'cities', 'hospital', 'hospitals', 'clinic', 'clinics'],\n",
    "    'bias_': ['bias', 'biases', 'fairness'],\n",
    "    'patient_': ['patient', 'patients']\n",
    "}"
   ]
  },
  {
   "cell_type": "code",
   "execution_count": 9,
   "metadata": {},
   "outputs": [],
   "source": [
    "def count_keywords(text, keywords):\n",
    "    # Counter object to count occurrences of each keyword\n",
    "    counts = Counter()\n",
    "    for keyword in keywords:\n",
    "        # Count occurrences of the keyword in the text\n",
    "        counts[keyword] = text.lower().count(keyword)\n",
    "    return counts"
   ]
  },
  {
   "cell_type": "code",
   "execution_count": 10,
   "metadata": {},
   "outputs": [],
   "source": [
    "def aggregate_keyword_counts(df, keywords, text_column = 'extracted_keyword_sent'):\n",
    "    # Aggregate 'extracted_sentences' for each 'title' and count keywords\n",
    "    results = {}\n",
    "    for title, group in df.groupby('title'):\n",
    "        # Combine all extracted sentences into one large text block\n",
    "        aggregated_text = \" \".join(group[text_column].tolist())\n",
    "        # Count the keywords in this aggregated text\n",
    "        keyword_counts = count_keywords(aggregated_text, keywords)\n",
    "        # Store the result\n",
    "        results[title] = keyword_counts\n",
    "\n",
    "    # Convert the results dictionary to a DataFrame \n",
    "    results_df = pd.DataFrame.from_dict(results, orient='index')\n",
    "    return results_df\n"
   ]
  },
  {
   "cell_type": "code",
   "execution_count": 11,
   "metadata": {},
   "outputs": [],
   "source": [
    "def convert_counts_to_binary(df):\n",
    "    return df.map(lambda x: 1 if x > 0 else 0)"
   ]
  },
  {
   "cell_type": "code",
   "execution_count": 46,
   "metadata": {},
   "outputs": [],
   "source": [
    "# Reverse the mapping for aggregation\n",
    "def agg_columns_to_categories(df, keyword_to_category):\n",
    "    category_to_keywords = {}\n",
    "    for keyword, category in keyword_to_category.values():\n",
    "        category_to_keywords.setdefault(category, []).append(keyword)\n",
    "\n",
    "    # Aggregate columns into categories\n",
    "    for category, keywords in category_to_keywords.items():\n",
    "        if category in df.columns:\n",
    "            # If the category already exists, add to it\n",
    "            df[category] += df[keywords].sum(axis=1)\n",
    "        else:\n",
    "            # Otherwise, create a new column for the category\n",
    "            df[category] = df[keywords].sum(axis=1)\n",
    "        # Drop the original keyword columns\n",
    "        df.drop(columns=keywords, inplace=True)\n",
    "\n",
    "    return df"
   ]
  },
  {
   "cell_type": "code",
   "execution_count": 47,
   "metadata": {},
   "outputs": [
    {
     "data": {
      "text/plain": [
       "dict_values([['age', 'gender', 'sex', 'women', 'woman', 'female', 'male', 'etnicity', 'etnicities', 'race', 'white patients', 'black patients'], ['geolocation', 'geographical', 'geographic', 'country', 'countries', 'city', 'cities', 'hospital', 'hospitals', 'clinic', 'clinics'], ['bias', 'biases', 'fairness'], ['patient', 'patients']])"
      ]
     },
     "execution_count": 47,
     "metadata": {},
     "output_type": "execute_result"
    }
   ],
   "source": [
    "keywords_by_category.values()"
   ]
  },
  {
   "cell_type": "code",
   "execution_count": 48,
   "metadata": {},
   "outputs": [],
   "source": [
    "# With customized header title (each graph named after doc-title)\n",
    "def visualize_category_counts(df, document_title):\n",
    "    # Title-case the document title\n",
    "    document_title = document_title.title()\n",
    "\n",
    "    # Filter categories with counts greater than 0\n",
    "    category_counts = df.sum().sort_values()\n",
    "    filtered_counts = category_counts[category_counts > 0]\n",
    "\n",
    "    # Plot only the filtered categories\n",
    "    filtered_counts.plot(kind='barh', figsize=(10, 6))\n",
    "    plt.title(f'Frequency of Keywords Across Selected MICCAI 2023 Papers - | {document_title} |')\n",
    "    plt.xlabel('Total Counts')\n",
    "    plt.ylabel('Keywords')\n",
    "    plt.show()"
   ]
  },
  {
   "cell_type": "code",
   "execution_count": 49,
   "metadata": {},
   "outputs": [],
   "source": [
    "from matplotlib import category\n",
    "\n",
    "\n",
    "def analyze_keywords_in_documents(df, category, keywords_by_category, text_column='extracted_keyword_sent'):\n",
    "    # Aggregate keyword counts\n",
    "    keyword_counts = agg_columns_to_categories(df, keywords_by_category[category])\n",
    "    \n",
    "    # Convert counts to binary\n",
    "    binary_keyword_counts = convert_counts_to_binary(keyword_counts)\n",
    "    \n",
    "    # Visualize category counts\n",
    "    visualize_category_counts(binary_keyword_counts, keywords_by_category[category])"
   ]
  },
  {
   "cell_type": "code",
   "execution_count": 50,
   "metadata": {},
   "outputs": [],
   "source": [
    "# Unified keyword to category mapping including all themes\n",
    "keywords_by_category = {\n",
    "    'demographics_': [\n",
    "        'age', 'gender', 'sex', 'women', 'woman', 'female', 'male',\n",
    "        'etnicity', 'etnicities', 'race', 'white patients', 'black patients'],\n",
    "    'geolocation_': [\n",
    "        'geolocation', 'geographical', 'geographic', 'country', 'countries', \n",
    "        'city', 'cities', 'hospital', 'hospitals', 'clinic', 'clinics'],\n",
    "    'bias_': ['bias', 'biases', 'fairness'],\n",
    "    'patient_': ['patient', 'patients']\n",
    "}"
   ]
  },
  {
   "cell_type": "code",
   "execution_count": 51,
   "metadata": {},
   "outputs": [
    {
     "name": "stdout",
     "output_type": "stream",
     "text": [
      "Analyzing category: demographics\n",
      "Number of unique titles: 263\n"
     ]
    },
    {
     "ename": "KeyError",
     "evalue": "'demographics'",
     "output_type": "error",
     "traceback": [
      "\u001b[0;31m---------------------------------------------------------------------------\u001b[0m",
      "\u001b[0;31mKeyError\u001b[0m                                  Traceback (most recent call last)",
      "Cell \u001b[0;32mIn[51], line 36\u001b[0m\n\u001b[1;32m     34\u001b[0m \u001b[38;5;66;03m# Loop over each category and perform analysis\u001b[39;00m\n\u001b[1;32m     35\u001b[0m \u001b[38;5;28;01mfor\u001b[39;00m category, filenames \u001b[38;5;129;01min\u001b[39;00m files_by_category\u001b[38;5;241m.\u001b[39mitems():\n\u001b[0;32m---> 36\u001b[0m     \u001b[43manalyze_keywords_from_file\u001b[49m\u001b[43m(\u001b[49m\u001b[43mfilenames\u001b[49m\u001b[43m,\u001b[49m\u001b[43m \u001b[49m\u001b[43mcategory\u001b[49m\u001b[43m)\u001b[49m\n",
      "Cell \u001b[0;32mIn[51], line 13\u001b[0m, in \u001b[0;36manalyze_keywords_from_file\u001b[0;34m(filenames, category)\u001b[0m\n\u001b[1;32m     10\u001b[0m \u001b[38;5;28mprint\u001b[39m(\u001b[38;5;124mf\u001b[39m\u001b[38;5;124m\"\u001b[39m\u001b[38;5;124mNumber of unique titles: \u001b[39m\u001b[38;5;132;01m{\u001b[39;00m\u001b[38;5;28mlen\u001b[39m(merged_df[\u001b[38;5;124m'\u001b[39m\u001b[38;5;124mtitle\u001b[39m\u001b[38;5;124m'\u001b[39m]\u001b[38;5;241m.\u001b[39munique())\u001b[38;5;132;01m}\u001b[39;00m\u001b[38;5;124m\"\u001b[39m)\n\u001b[1;32m     11\u001b[0m \u001b[38;5;66;03m# Here, you can replace this with any function that analyzes the merged_df  \u001b[39;00m\n\u001b[0;32m---> 13\u001b[0m \u001b[43manalyze_keywords_in_documents\u001b[49m\u001b[43m(\u001b[49m\u001b[43mmerged_df\u001b[49m\u001b[43m,\u001b[49m\u001b[43m \u001b[49m\u001b[43mcategory\u001b[49m\u001b[43m,\u001b[49m\u001b[43m \u001b[49m\u001b[43mkeywords_by_category\u001b[49m\u001b[43m)\u001b[49m\n",
      "Cell \u001b[0;32mIn[49], line 6\u001b[0m, in \u001b[0;36manalyze_keywords_in_documents\u001b[0;34m(df, category, keywords_by_category, text_column)\u001b[0m\n\u001b[1;32m      4\u001b[0m \u001b[38;5;28;01mdef\u001b[39;00m \u001b[38;5;21manalyze_keywords_in_documents\u001b[39m(df, category, keywords_by_category, text_column\u001b[38;5;241m=\u001b[39m\u001b[38;5;124m'\u001b[39m\u001b[38;5;124mextracted_keyword_sent\u001b[39m\u001b[38;5;124m'\u001b[39m):\n\u001b[1;32m      5\u001b[0m     \u001b[38;5;66;03m# Aggregate keyword counts\u001b[39;00m\n\u001b[0;32m----> 6\u001b[0m     keyword_counts \u001b[38;5;241m=\u001b[39m agg_columns_to_categories(df, \u001b[43mkeywords_by_category\u001b[49m\u001b[43m[\u001b[49m\u001b[43mcategory\u001b[49m\u001b[43m]\u001b[49m)\n\u001b[1;32m      8\u001b[0m     \u001b[38;5;66;03m# Convert counts to binary\u001b[39;00m\n\u001b[1;32m      9\u001b[0m     binary_keyword_counts \u001b[38;5;241m=\u001b[39m convert_counts_to_binary(keyword_counts)\n",
      "\u001b[0;31mKeyError\u001b[0m: 'demographics'"
     ]
    }
   ],
   "source": [
    "def analyze_keywords_from_file(filenames, category):\n",
    "    dfs = []  # List to store dataframes for merging\n",
    "    for filename in filenames:\n",
    "        # Load each file into a DataFrame and add it to the list\n",
    "        df = pd.read_csv(filename)\n",
    "        dfs.append(df)\n",
    "    # Concatenate all dataframes in the list into a single dataframe\n",
    "    merged_df = pd.concat(dfs, ignore_index=True)\n",
    "    print(f\"Analyzing category: {category}\")\n",
    "    print(f\"Number of unique titles: {len(merged_df['title'].unique())}\")\n",
    "    # Here, you can replace this with any function that analyzes the merged_df  \n",
    "\n",
    "    analyze_keywords_in_documents(merged_df, category, keywords_by_category) \n",
    "\n",
    "# Path to the folder where the files are stored \n",
    "base_path = '/Users/yasminsarkhosh/Documents/GitHub/machine-learning-bsc-thesis-2024/outputs/extracted_sentences'\n",
    "\n",
    "# Categorizing files into categories for analysis\n",
    "files_by_category = {\n",
    "    'demographics': [\n",
    "        base_path + '/age_related_sentences.csv',\n",
    "        base_path + '/gender_related_sentences.csv',\n",
    "        base_path + '/ethnicity_related_sentences.csv',\n",
    "        base_path + '/geolocation_related_sentences.csv',\n",
    "    ],\n",
    "    'patients': [\n",
    "        base_path + '/patients_related_sentences.csv',\n",
    "    ],\n",
    "    'bias': [\n",
    "        base_path + '/bias_related_sentences.csv',\n",
    "    ]\n",
    "}\n",
    "\n",
    "# Loop over each category and perform analysis\n",
    "for category, filenames in files_by_category.items():\n",
    "    analyze_keywords_from_file(filenames, category)\n"
   ]
  },
  {
   "cell_type": "code",
   "execution_count": null,
   "metadata": {},
   "outputs": [],
   "source": []
  },
  {
   "cell_type": "code",
   "execution_count": null,
   "metadata": {},
   "outputs": [],
   "source": []
  }
 ],
 "metadata": {
  "kernelspec": {
   "display_name": "venv",
   "language": "python",
   "name": "python3"
  },
  "language_info": {
   "codemirror_mode": {
    "name": "ipython",
    "version": 3
   },
   "file_extension": ".py",
   "mimetype": "text/x-python",
   "name": "python",
   "nbconvert_exporter": "python",
   "pygments_lexer": "ipython3",
   "version": "3.9.6"
  }
 },
 "nbformat": 4,
 "nbformat_minor": 2
}
